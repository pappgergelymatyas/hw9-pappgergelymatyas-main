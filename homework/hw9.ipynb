{
 "cells": [
  {
   "cell_type": "code",
   "execution_count": 6,
   "metadata": {},
   "outputs": [],
   "source": [
    "import numpy as np\n",
    "import pandas as pd\n",
    "import os\n",
    "import openpyxl"
   ]
  },
  {
   "cell_type": "code",
   "execution_count": 3,
   "metadata": {},
   "outputs": [
    {
     "name": "stdout",
     "output_type": "stream",
     "text": [
      "C:\\Users\\Lenovo X390\\Desktop\\Rajk\\II\\II. Prog1\\hw9-pappgergelymatyas-main\n",
      "C:\\Users\\Lenovo X390\\Desktop\\Rajk\\II\\II. Prog1\\hw9-pappgergelymatyas-main\n"
     ]
    }
   ],
   "source": [
    "#Working directory beállítása\n",
    "#mi van jelenleg beállítva --> ahonnan megnyitottuk a fájlt\n",
    "print(os.getcwd())\n",
    "#átállítás és ellenőrzés\n",
    "os.chdir(\"C:/Users/Lenovo X390/Desktop/Rajk/II/II. Prog1/hw9-pappgergelymatyas-main\")\n",
    "print(os.getcwd())\n",
    "\n",
    "#adatbázis: ESS 9. hullámával fogunk foglalkozni --> ismeri-e valaki\n",
    "ess_9 = pd.read_excel(\"ESS9HU.xlsx\", keep_default_na= True) #pd vel hivatkozunk a packagre, sokféle adatbázis típust be tud olvasni\n",
    "\n",
    "#opciók\n",
    "#pd.read"
   ]
  },
  {
   "cell_type": "code",
   "execution_count": 5,
   "metadata": {},
   "outputs": [
    {
     "ename": "NameError",
     "evalue": "name 'ess_9' is not defined",
     "output_type": "error",
     "traceback": [
      "\u001b[1;31m---------------------------------------------------------------------------\u001b[0m",
      "\u001b[1;31mNameError\u001b[0m                                 Traceback (most recent call last)",
      "Cell \u001b[1;32mIn[5], line 1\u001b[0m\n\u001b[1;32m----> 1\u001b[0m \u001b[43mess_9\u001b[49m\u001b[38;5;241m.\u001b[39mshape\n",
      "\u001b[1;31mNameError\u001b[0m: name 'ess_9' is not defined"
     ]
    }
   ],
   "source": [
    "ess_9.shape"
   ]
  },
  {
   "cell_type": "code",
   "execution_count": 37,
   "metadata": {},
   "outputs": [
    {
     "name": "stdout",
     "output_type": "stream",
     "text": [
      "6.777242624924744\n",
      "6.643546441495778\n"
     ]
    }
   ],
   "source": [
    "# happy átlag pipa!\n",
    "happy_atlag = ess_9[ess_9[\"happy\"] <= 10] \n",
    "\n",
    "print(ess_9[\"happy\"].mean())\n",
    "print(happy_atlag[\"happy\"].mean())"
   ]
  },
  {
   "cell_type": "code",
   "execution_count": 4,
   "metadata": {},
   "outputs": [
    {
     "ename": "NameError",
     "evalue": "name 'happy_atlag' is not defined",
     "output_type": "error",
     "traceback": [
      "\u001b[1;31m---------------------------------------------------------------------------\u001b[0m",
      "\u001b[1;31mNameError\u001b[0m                                 Traceback (most recent call last)",
      "Cell \u001b[1;32mIn[4], line 1\u001b[0m\n\u001b[1;32m----> 1\u001b[0m happy_max_ferfi \u001b[38;5;241m=\u001b[39m \u001b[43mhappy_atlag\u001b[49m[happy_atlag[\u001b[38;5;124m\"\u001b[39m\u001b[38;5;124mgndr\u001b[39m\u001b[38;5;124m\"\u001b[39m] \u001b[38;5;241m==\u001b[39m \u001b[38;5;241m1\u001b[39m] \n\u001b[0;32m      2\u001b[0m ferfi_max \u001b[38;5;241m=\u001b[39m happy_max_ferfi[\u001b[38;5;124m\"\u001b[39m\u001b[38;5;124mhappy\u001b[39m\u001b[38;5;124m\"\u001b[39m]\u001b[38;5;241m.\u001b[39mmax()\n\u001b[0;32m      4\u001b[0m happy_min_ferfi \u001b[38;5;241m=\u001b[39m happy_atlag[happy_atlag[\u001b[38;5;124m\"\u001b[39m\u001b[38;5;124mgndr\u001b[39m\u001b[38;5;124m\"\u001b[39m] \u001b[38;5;241m==\u001b[39m \u001b[38;5;241m1\u001b[39m] \n",
      "\u001b[1;31mNameError\u001b[0m: name 'happy_atlag' is not defined"
     ]
    }
   ],
   "source": [
    "happy_max_ferfi = happy_atlag[happy_atlag[\"gndr\"] == 1] \n",
    "ferfi_max = happy_max_ferfi[\"happy\"].max()\n",
    "\n",
    "happy_min_ferfi = happy_atlag[happy_atlag[\"gndr\"] == 1] \n",
    "ferfi_min = happy_min_ferfi[\"happy\"].min()\n",
    "\n",
    "ferfi_kulonbseg = ferfi_max - ferfi_min\n",
    "\n",
    "print(ferfi_kulonbseg)"
   ]
  },
  {
   "cell_type": "code",
   "execution_count": 35,
   "metadata": {},
   "outputs": [
    {
     "name": "stdout",
     "output_type": "stream",
     "text": [
      "10\n"
     ]
    }
   ],
   "source": [
    "happy_max_no = happy_atlag[happy_atlag[\"gndr\"] == 2] \n",
    "no_max = happy_max_no[\"happy\"].max()\n",
    "\n",
    "happy_min_no = happy_atlag[happy_atlag[\"gndr\"] == 2] \n",
    "no_min = happy_min_no[\"happy\"].min()\n",
    "\n",
    "no_kulonbseg = no_max - no_min\n",
    "\n",
    "print(no_kulonbseg)\n",
    "\n",
    "# juppi"
   ]
  },
  {
   "cell_type": "code",
   "execution_count": 2,
   "metadata": {},
   "outputs": [
    {
     "ename": "NameError",
     "evalue": "name 'ess_9' is not defined",
     "output_type": "error",
     "traceback": [
      "\u001b[1;31m---------------------------------------------------------------------------\u001b[0m",
      "\u001b[1;31mNameError\u001b[0m                                 Traceback (most recent call last)",
      "Cell \u001b[1;32mIn[2], line 1\u001b[0m\n\u001b[1;32m----> 1\u001b[0m ess_9[\u001b[38;5;124m\"\u001b[39m\u001b[38;5;124mkorcsoportok\u001b[39m\u001b[38;5;124m\"\u001b[39m] \u001b[38;5;241m=\u001b[39m \u001b[43mess_9\u001b[49m[\u001b[38;5;124m\"\u001b[39m\u001b[38;5;124magea\u001b[39m\u001b[38;5;124m\"\u001b[39m]\u001b[38;5;241m.\u001b[39mapply(\u001b[38;5;28;01mlambda\u001b[39;00m x: \u001b[38;5;241m1\u001b[39m \u001b[38;5;28;01mif\u001b[39;00m x \u001b[38;5;241m<\u001b[39m\u001b[38;5;241m=\u001b[39m \u001b[38;5;241m25\u001b[39m \u001b[38;5;28;01melse\u001b[39;00m (\u001b[38;5;241m2\u001b[39m \u001b[38;5;28;01mif\u001b[39;00m (\u001b[38;5;241m26\u001b[39m \u001b[38;5;241m<\u001b[39m\u001b[38;5;241m=\u001b[39m x) \u001b[38;5;241m&\u001b[39m (x \u001b[38;5;241m<\u001b[39m\u001b[38;5;241m=\u001b[39m \u001b[38;5;241m46\u001b[39m) \u001b[38;5;28;01melse\u001b[39;00m (\u001b[38;5;241m3\u001b[39m \u001b[38;5;28;01mif\u001b[39;00m (x \u001b[38;5;241m<\u001b[39m\u001b[38;5;241m=\u001b[39m \u001b[38;5;241m46\u001b[39m) \u001b[38;5;241m&\u001b[39m (x \u001b[38;5;241m>\u001b[39m\u001b[38;5;241m=\u001b[39m \u001b[38;5;241m65\u001b[39m) \u001b[38;5;28;01melse\u001b[39;00m \u001b[38;5;241m4\u001b[39m)))\n\u001b[0;32m      3\u001b[0m \u001b[38;5;66;03m# y e s\u001b[39;00m\n",
      "\u001b[1;31mNameError\u001b[0m: name 'ess_9' is not defined"
     ]
    }
   ],
   "source": [
    "ess_9[\"korcsoportok\"] = ess_9[\"agea\"].apply(lambda x: 1 if x <= 25 else (2 if (26 <= x) & (x <= 46) else (3 if (x <= 46) & (x >= 65) else 4)))\n",
    "\n",
    "# y e s"
   ]
  },
  {
   "cell_type": "code",
   "execution_count": 3,
   "metadata": {},
   "outputs": [
    {
     "ename": "NameError",
     "evalue": "name 'ess_9' is not defined",
     "output_type": "error",
     "traceback": [
      "\u001b[1;31m---------------------------------------------------------------------------\u001b[0m",
      "\u001b[1;31mNameError\u001b[0m                                 Traceback (most recent call last)",
      "Cell \u001b[1;32mIn[3], line 1\u001b[0m\n\u001b[1;32m----> 1\u001b[0m median_elso_korcsoport \u001b[38;5;241m=\u001b[39m \u001b[43mess_9\u001b[49m[ess_9[\u001b[38;5;124m\"\u001b[39m\u001b[38;5;124mkorcsoportok\u001b[39m\u001b[38;5;124m\"\u001b[39m] \u001b[38;5;241m==\u001b[39m \u001b[38;5;241m1\u001b[39m]\n\u001b[0;32m      2\u001b[0m median_elso \u001b[38;5;241m=\u001b[39m median_elso_korcsoport[\u001b[38;5;124m\"\u001b[39m\u001b[38;5;124mhappy\u001b[39m\u001b[38;5;124m\"\u001b[39m]\u001b[38;5;241m.\u001b[39mmedian()\n\u001b[0;32m      3\u001b[0m median_masodik_korcsoport \u001b[38;5;241m=\u001b[39m ess_9[ess_9[\u001b[38;5;124m\"\u001b[39m\u001b[38;5;124mkorcsoportok\u001b[39m\u001b[38;5;124m\"\u001b[39m] \u001b[38;5;241m==\u001b[39m \u001b[38;5;241m2\u001b[39m]\n",
      "\u001b[1;31mNameError\u001b[0m: name 'ess_9' is not defined"
     ]
    }
   ],
   "source": [
    "median_elso_korcsoport = ess_9[ess_9[\"korcsoportok\"] == 1]\n",
    "median_elso = median_elso_korcsoport[\"happy\"].median()\n",
    "median_masodik_korcsoport = ess_9[ess_9[\"korcsoportok\"] == 2]\n",
    "median_masodik = median_masodik_korcsoport[\"happy\"].median()\n",
    "median_harmadik_korcsoport = ess_9[ess_9[\"korcsoportok\"] == 3]\n",
    "median_harmadik = median_harmadik_korcsoport[\"happy\"].median()\n",
    "median_negyedik_korcsoport = ess_9[ess_9[\"korcsoportok\"] == 4]\n",
    "median_negyedik = median_negyedik_korcsoport[\"happy\"].median()\n",
    "\n",
    "print(median_elso, median_masodik, median_harmadik, median_negyedik)"
   ]
  },
  {
   "cell_type": "code",
   "execution_count": 30,
   "metadata": {},
   "outputs": [
    {
     "name": "stdout",
     "output_type": "stream",
     "text": [
      "      essround   idno cntry  gndr  agea  eduyrs  edlvdhu  nwspol  netusoft  \\\n",
      "9            9    586    HU     2    19      12        6     500         3   \n",
      "12           9    687    HU     1    25      11        2       0         5   \n",
      "48           9   2645    HU     1    21      13        4       0         5   \n",
      "54           9   2765    HU     2    25      11        4       0         5   \n",
      "66           9   3381    HU     2    18      11        3      20         5   \n",
      "...        ...    ...   ...   ...   ...     ...      ...     ...       ...   \n",
      "1576         9  66433    HU     2    24      14        9       0         5   \n",
      "1585         9  66871    HU     2    19      12        7      15         5   \n",
      "1588         9  66949    HU     2    23      11        4      60         2   \n",
      "1624         9  68267    HU     1    20      12        6      10         5   \n",
      "1653         9  69594    HU     2    23      12        6      20         5   \n",
      "\n",
      "      netustm  ...  aesfdrk  health  hlthhmp  atchctr  atcherp  rlgblg  \\\n",
      "9        6666  ...        3       2        3        3        3       2   \n",
      "12        120  ...        2       2        3        5        2       1   \n",
      "48        120  ...        2       2        3        9        8       1   \n",
      "54        120  ...        2       2        3        7        8       1   \n",
      "66        300  ...        3       1        3        7       10       7   \n",
      "...       ...  ...      ...     ...      ...      ...      ...     ...   \n",
      "1576      180  ...        1       1        3        8        9       2   \n",
      "1585      120  ...        2       1        3        8       10       2   \n",
      "1588     6666  ...        2       2        3        1        1       1   \n",
      "1624       60  ...        1       1        3       10       10       1   \n",
      "1653     8888  ...        2       1        3       10       10       2   \n",
      "\n",
      "      rlgdnhu  dweight      Unnamed: 55  korcsoportok  \n",
      "9        6666      NaN  778454429088892             1  \n",
      "12        280      NaN  778454429088892             1  \n",
      "48        280      NaN  809827184002287             1  \n",
      "54        280      NaN    7752161673079             1  \n",
      "66       6666      NaN  778454429088892             1  \n",
      "...       ...      ...              ...           ...  \n",
      "1576     6666      NaN  774663255406852             1  \n",
      "1585     6666      1.0     260606948001             1  \n",
      "1588      110      NaN  809827184002287             1  \n",
      "1624      110      NaN  802914469067165             1  \n",
      "1653     6666      1.0     260606948001             1  \n",
      "\n",
      "[177 rows x 57 columns]\n"
     ]
    }
   ],
   "source": [
    "print(median_elso_korcsoport)"
   ]
  }
 ],
 "metadata": {
  "kernelspec": {
   "display_name": "Python 3",
   "language": "python",
   "name": "python3"
  },
  "language_info": {
   "codemirror_mode": {
    "name": "ipython",
    "version": 3
   },
   "file_extension": ".py",
   "mimetype": "text/x-python",
   "name": "python",
   "nbconvert_exporter": "python",
   "pygments_lexer": "ipython3",
   "version": "3.12.4"
  }
 },
 "nbformat": 4,
 "nbformat_minor": 2
}
