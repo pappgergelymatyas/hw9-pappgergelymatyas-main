{
 "cells": [
  {
   "cell_type": "markdown",
   "metadata": {},
   "source": [
    "# Tidy data koncepció\n",
    "\n",
    "*\"A boldog családok mind hasonlóak egymáshoz, minden boldogtalan család a maga módján az\"* Lev Tolsztoj: Anna Karenina\n",
    "\n",
    "*\"Tidy datasets are all alike but every messy dataset is messy in its own way\"* [Hadley Wickham](https://vita.had.co.nz/papers/tidy-data.pdf)\n",
    "\n",
    "Tidy data jellemzői:\n",
    "1) Minden változó egy oszlop\n",
    "2) Minden megfigyelés egy sor\n",
    "3) Minden megfigyelés típus egy tábla\n",
    "\n",
    "Leggyakoribb jelenségek, amitől nem tidy az adat:\n",
    "1) Az oszlopcímkék értékek, nem változónevek\n",
    "2) Több változó tárolódik egy oszlopban\n",
    "3) A változók sorokban és oszlopokban is fellelhetők\n",
    "4) Többféle megfigyelési típus is van egy táblában\n",
    "5) Egy megfigyelési egység többféle táblában is jelen van\n",
    "\n",
    "### Általában milyen típusú adatokkal dolgoztok?"
   ]
  },
  {
   "cell_type": "markdown",
   "metadata": {},
   "source": [
    "# Pandas Intro\n",
    "\n",
    "Két packaget kell beolvasni pandas, és numpy (parncssorban):\n",
    "\n",
    "pip install pandas\n",
    "\n",
    "pip install numpy\n",
    "\n",
    "[Pandas alapok](https://pandas.pydata.org/docs/getting_started/overview.html)\n",
    "\n",
    "[NumPy alapok](https://numpy.org/doc/stable/user/absolute_beginners.html)\n"
   ]
  },
  {
   "cell_type": "code",
   "execution_count": 9,
   "metadata": {},
   "outputs": [],
   "source": [
    "#szükséeg packagek importálása\n",
    "import numpy as np\n",
    "import pandas as pd\n",
    "import os\n",
    "import openpyxl"
   ]
  },
  {
   "cell_type": "markdown",
   "metadata": {},
   "source": [
    "### Milyen adatokat kezel a pandas?\n",
    "\n",
    "- A pandas az adatok táblázatos reprezentációja.\n",
    "- Minden oszlopa egy Series. Ez egy egydimenziós tömb [(Arrays)](https://www.w3schools.com/python/python_arrays.asp), amely bármilyen típusú adatot tartalmaz."
   ]
  },
  {
   "cell_type": "markdown",
   "metadata": {},
   "source": [
    "## Saját adatbázis létrehozása"
   ]
  },
  {
   "cell_type": "markdown",
   "metadata": {},
   "source": [
    "### Listából"
   ]
  },
  {
   "cell_type": "code",
   "execution_count": 18,
   "metadata": {},
   "outputs": [
    {
     "name": "stdout",
     "output_type": "stream",
     "text": [
      "       0\n",
      "0   Lili\n",
      "1    Vió\n",
      "2  Gyula\n",
      "3   Beni\n",
      "4  Matyi\n",
      "5   Lemu\n",
      "6  Betts\n",
      "7   Máté\n"
     ]
    }
   ],
   "source": [
    "#egy listából\n",
    "nev = [\"Lili\", \"Vió\", \"Gyula\", \"Beni\", \"Matyi\", \"Lemu\", \"Betts\", \"Máté\"]\n",
    "\n",
    "df = pd.DataFrame(nev)\n",
    "print(df) #konvencionális elnevezés"
   ]
  },
  {
   "cell_type": "code",
   "execution_count": 19,
   "metadata": {},
   "outputs": [
    {
     "name": "stdout",
     "output_type": "stream",
     "text": [
      "     nev  magassag  apa_magassag\n",
      "0   Lili         1             9\n",
      "1    Vió         2            10\n",
      "2  Gyula         3            11\n",
      "3   Beni         4            12\n",
      "4  Matyi         5            13\n",
      "5   Lemu         6            14\n",
      "6  Betts         7            12\n",
      "7   Máté         8            16\n"
     ]
    }
   ],
   "source": [
    "#több litából dictionary segítségével\n",
    "#egy listából\n",
    "nev = [\"Lili\", \"Vió\", \"Gyula\", \"Beni\", \"Matyi\", \"Lemu\", \"Betts\", \"Máté\"]\n",
    "magassag = [1, 2, 3, 4, 5, 6, 7, 8]\n",
    "apa_magassag = [9,10, 11, 12, 13, 14, 12 , 16]\n",
    "\n",
    "tablahoz = {\"nev\": nev, \"magassag\": magassag, \"apa_magassag\": apa_magassag}\n",
    "\n",
    "magassag_df = pd.DataFrame(tablahoz)\n",
    "print(magassag_df)"
   ]
  },
  {
   "cell_type": "code",
   "execution_count": 20,
   "metadata": {},
   "outputs": [
    {
     "name": "stdout",
     "output_type": "stream",
     "text": [
      "16\n",
      "1\n",
      "              apa_magassag  magassag\n",
      "apa_magassag      1.000000  0.901441\n",
      "magassag          0.901441  1.000000\n"
     ]
    }
   ],
   "source": [
    "#gyorsan néhány használati mód\n",
    "print(max(magassag_df[\"apa_magassag\"]))\n",
    "print(min(magassag_df[\"magassag\"]))\n",
    "print(magassag_df[[\"apa_magassag\", \"magassag\"]].corr())"
   ]
  },
  {
   "cell_type": "markdown",
   "metadata": {},
   "source": [
    "## Adat beolvasása"
   ]
  },
  {
   "cell_type": "code",
   "execution_count": 7,
   "metadata": {},
   "outputs": [
    {
     "name": "stdout",
     "output_type": "stream",
     "text": [
      "C:\\Users\\Lenovo X390\\Desktop\\Rajk\\II\\II. Prog1\\hw9-pappgergelymatyas-main\n",
      "C:\\Users\\Lenovo X390\\Desktop\\Rajk\\II\\II. Prog1\\hw9-pappgergelymatyas-main\n"
     ]
    }
   ],
   "source": [
    "#Working directory beállítása\n",
    "#mi van jelenleg beállítva --> ahonnan megnyitottuk a fájlt\n",
    "print(os.getcwd())\n",
    "#átállítás és ellenőrzés\n",
    "os.chdir(\"C:/Users/Lenovo X390/Desktop/Rajk/II/II. Prog1/hw9-pappgergelymatyas-main\")\n",
    "print(os.getcwd())"
   ]
  },
  {
   "cell_type": "code",
   "execution_count": 10,
   "metadata": {},
   "outputs": [],
   "source": [
    "#adatbázis: ESS 9. hullámával fogunk foglalkozni --> ismeri-e valaki\n",
    "ess_9 = pd.read_excel(\"ESS9HU.xlsx\", keep_default_na= True) #pd vel hivatkozunk a packagre, sokféle adatbázis típust be tud olvasni\n",
    "\n",
    "#opciók\n",
    "#pd.read"
   ]
  },
  {
   "cell_type": "markdown",
   "metadata": {},
   "source": [
    "[ESS dokumentáció](https://ess.sikt.no/en/study/bdc7c350-1029-4cb3-9d5e-53f668b8fa74/226)"
   ]
  },
  {
   "cell_type": "markdown",
   "metadata": {},
   "source": [
    "DataFrame dimenzióinak hossza (sorok és oszlopok száma ebben a sorrendben)"
   ]
  },
  {
   "cell_type": "code",
   "execution_count": 11,
   "metadata": {},
   "outputs": [
    {
     "data": {
      "text/plain": [
       "(1661, 56)"
      ]
     },
     "execution_count": 11,
     "metadata": {},
     "output_type": "execute_result"
    }
   ],
   "source": [
    "ess_9.shape"
   ]
  },
  {
   "cell_type": "markdown",
   "metadata": {},
   "source": [
    "DataFrame első ```n``` sorának megjelenítése (alapértelmezetten ```n=5```)"
   ]
  },
  {
   "cell_type": "code",
   "execution_count": 12,
   "metadata": {},
   "outputs": [
    {
     "data": {
      "text/html": [
       "<div>\n",
       "<style scoped>\n",
       "    .dataframe tbody tr th:only-of-type {\n",
       "        vertical-align: middle;\n",
       "    }\n",
       "\n",
       "    .dataframe tbody tr th {\n",
       "        vertical-align: top;\n",
       "    }\n",
       "\n",
       "    .dataframe thead th {\n",
       "        text-align: right;\n",
       "    }\n",
       "</style>\n",
       "<table border=\"1\" class=\"dataframe\">\n",
       "  <thead>\n",
       "    <tr style=\"text-align: right;\">\n",
       "      <th></th>\n",
       "      <th>essround</th>\n",
       "      <th>idno</th>\n",
       "      <th>cntry</th>\n",
       "      <th>gndr</th>\n",
       "      <th>agea</th>\n",
       "      <th>eduyrs</th>\n",
       "      <th>edlvdhu</th>\n",
       "      <th>nwspol</th>\n",
       "      <th>netusoft</th>\n",
       "      <th>netustm</th>\n",
       "      <th>...</th>\n",
       "      <th>crmvct</th>\n",
       "      <th>aesfdrk</th>\n",
       "      <th>health</th>\n",
       "      <th>hlthhmp</th>\n",
       "      <th>atchctr</th>\n",
       "      <th>atcherp</th>\n",
       "      <th>rlgblg</th>\n",
       "      <th>rlgdnhu</th>\n",
       "      <th>dweight</th>\n",
       "      <th>Unnamed: 55</th>\n",
       "    </tr>\n",
       "  </thead>\n",
       "  <tbody>\n",
       "    <tr>\n",
       "      <th>0</th>\n",
       "      <td>9</td>\n",
       "      <td>118</td>\n",
       "      <td>HU</td>\n",
       "      <td>2</td>\n",
       "      <td>37</td>\n",
       "      <td>12</td>\n",
       "      <td>7</td>\n",
       "      <td>90</td>\n",
       "      <td>5</td>\n",
       "      <td>240</td>\n",
       "      <td>...</td>\n",
       "      <td>2</td>\n",
       "      <td>3</td>\n",
       "      <td>2</td>\n",
       "      <td>3</td>\n",
       "      <td>5</td>\n",
       "      <td>7</td>\n",
       "      <td>1</td>\n",
       "      <td>110</td>\n",
       "      <td>1.0</td>\n",
       "      <td>260606948001</td>\n",
       "    </tr>\n",
       "    <tr>\n",
       "      <th>1</th>\n",
       "      <td>9</td>\n",
       "      <td>182</td>\n",
       "      <td>HU</td>\n",
       "      <td>2</td>\n",
       "      <td>70</td>\n",
       "      <td>8</td>\n",
       "      <td>3</td>\n",
       "      <td>45</td>\n",
       "      <td>1</td>\n",
       "      <td>6666</td>\n",
       "      <td>...</td>\n",
       "      <td>2</td>\n",
       "      <td>2</td>\n",
       "      <td>3</td>\n",
       "      <td>3</td>\n",
       "      <td>10</td>\n",
       "      <td>10</td>\n",
       "      <td>1</td>\n",
       "      <td>120</td>\n",
       "      <td>NaN</td>\n",
       "      <td>778454429088892</td>\n",
       "    </tr>\n",
       "    <tr>\n",
       "      <th>2</th>\n",
       "      <td>9</td>\n",
       "      <td>220</td>\n",
       "      <td>HU</td>\n",
       "      <td>2</td>\n",
       "      <td>67</td>\n",
       "      <td>17</td>\n",
       "      <td>10</td>\n",
       "      <td>240</td>\n",
       "      <td>1</td>\n",
       "      <td>6666</td>\n",
       "      <td>...</td>\n",
       "      <td>2</td>\n",
       "      <td>1</td>\n",
       "      <td>3</td>\n",
       "      <td>3</td>\n",
       "      <td>9</td>\n",
       "      <td>9</td>\n",
       "      <td>1</td>\n",
       "      <td>280</td>\n",
       "      <td>1.0</td>\n",
       "      <td>260606948001</td>\n",
       "    </tr>\n",
       "    <tr>\n",
       "      <th>3</th>\n",
       "      <td>9</td>\n",
       "      <td>234</td>\n",
       "      <td>HU</td>\n",
       "      <td>1</td>\n",
       "      <td>38</td>\n",
       "      <td>11</td>\n",
       "      <td>7</td>\n",
       "      <td>60</td>\n",
       "      <td>2</td>\n",
       "      <td>6666</td>\n",
       "      <td>...</td>\n",
       "      <td>2</td>\n",
       "      <td>2</td>\n",
       "      <td>2</td>\n",
       "      <td>3</td>\n",
       "      <td>2</td>\n",
       "      <td>3</td>\n",
       "      <td>1</td>\n",
       "      <td>280</td>\n",
       "      <td>NaN</td>\n",
       "      <td>809827184002287</td>\n",
       "    </tr>\n",
       "    <tr>\n",
       "      <th>4</th>\n",
       "      <td>9</td>\n",
       "      <td>239</td>\n",
       "      <td>HU</td>\n",
       "      <td>1</td>\n",
       "      <td>30</td>\n",
       "      <td>14</td>\n",
       "      <td>7</td>\n",
       "      <td>10</td>\n",
       "      <td>5</td>\n",
       "      <td>120</td>\n",
       "      <td>...</td>\n",
       "      <td>2</td>\n",
       "      <td>1</td>\n",
       "      <td>1</td>\n",
       "      <td>3</td>\n",
       "      <td>7</td>\n",
       "      <td>7</td>\n",
       "      <td>1</td>\n",
       "      <td>110</td>\n",
       "      <td>1.0</td>\n",
       "      <td>260606948001</td>\n",
       "    </tr>\n",
       "  </tbody>\n",
       "</table>\n",
       "<p>5 rows × 56 columns</p>\n",
       "</div>"
      ],
      "text/plain": [
       "   essround  idno cntry  gndr  agea  eduyrs  edlvdhu  nwspol  netusoft  \\\n",
       "0         9   118    HU     2    37      12        7      90         5   \n",
       "1         9   182    HU     2    70       8        3      45         1   \n",
       "2         9   220    HU     2    67      17       10     240         1   \n",
       "3         9   234    HU     1    38      11        7      60         2   \n",
       "4         9   239    HU     1    30      14        7      10         5   \n",
       "\n",
       "   netustm  ...  crmvct  aesfdrk  health  hlthhmp  atchctr  atcherp  rlgblg  \\\n",
       "0      240  ...       2        3       2        3        5        7       1   \n",
       "1     6666  ...       2        2       3        3       10       10       1   \n",
       "2     6666  ...       2        1       3        3        9        9       1   \n",
       "3     6666  ...       2        2       2        3        2        3       1   \n",
       "4      120  ...       2        1       1        3        7        7       1   \n",
       "\n",
       "   rlgdnhu  dweight      Unnamed: 55  \n",
       "0      110      1.0     260606948001  \n",
       "1      120      NaN  778454429088892  \n",
       "2      280      1.0     260606948001  \n",
       "3      280      NaN  809827184002287  \n",
       "4      110      1.0     260606948001  \n",
       "\n",
       "[5 rows x 56 columns]"
      ]
     },
     "execution_count": 12,
     "metadata": {},
     "output_type": "execute_result"
    }
   ],
   "source": [
    "ess_9.head()"
   ]
  },
  {
   "cell_type": "markdown",
   "metadata": {},
   "source": [
    "DataFrame utolsó ```n``` sorának megjelenítése (alapértelmezetten ```n=5```)"
   ]
  },
  {
   "cell_type": "code",
   "execution_count": 13,
   "metadata": {},
   "outputs": [
    {
     "data": {
      "text/html": [
       "<div>\n",
       "<style scoped>\n",
       "    .dataframe tbody tr th:only-of-type {\n",
       "        vertical-align: middle;\n",
       "    }\n",
       "\n",
       "    .dataframe tbody tr th {\n",
       "        vertical-align: top;\n",
       "    }\n",
       "\n",
       "    .dataframe thead th {\n",
       "        text-align: right;\n",
       "    }\n",
       "</style>\n",
       "<table border=\"1\" class=\"dataframe\">\n",
       "  <thead>\n",
       "    <tr style=\"text-align: right;\">\n",
       "      <th></th>\n",
       "      <th>essround</th>\n",
       "      <th>idno</th>\n",
       "      <th>cntry</th>\n",
       "      <th>gndr</th>\n",
       "      <th>agea</th>\n",
       "      <th>eduyrs</th>\n",
       "      <th>edlvdhu</th>\n",
       "      <th>nwspol</th>\n",
       "      <th>netusoft</th>\n",
       "      <th>netustm</th>\n",
       "      <th>...</th>\n",
       "      <th>crmvct</th>\n",
       "      <th>aesfdrk</th>\n",
       "      <th>health</th>\n",
       "      <th>hlthhmp</th>\n",
       "      <th>atchctr</th>\n",
       "      <th>atcherp</th>\n",
       "      <th>rlgblg</th>\n",
       "      <th>rlgdnhu</th>\n",
       "      <th>dweight</th>\n",
       "      <th>Unnamed: 55</th>\n",
       "    </tr>\n",
       "  </thead>\n",
       "  <tbody>\n",
       "    <tr>\n",
       "      <th>1656</th>\n",
       "      <td>9</td>\n",
       "      <td>69733</td>\n",
       "      <td>HU</td>\n",
       "      <td>2</td>\n",
       "      <td>28</td>\n",
       "      <td>17</td>\n",
       "      <td>13</td>\n",
       "      <td>20</td>\n",
       "      <td>5</td>\n",
       "      <td>180</td>\n",
       "      <td>...</td>\n",
       "      <td>2</td>\n",
       "      <td>2</td>\n",
       "      <td>1</td>\n",
       "      <td>3</td>\n",
       "      <td>7</td>\n",
       "      <td>6</td>\n",
       "      <td>2</td>\n",
       "      <td>6666</td>\n",
       "      <td>NaN</td>\n",
       "      <td>778454429088892</td>\n",
       "    </tr>\n",
       "    <tr>\n",
       "      <th>1657</th>\n",
       "      <td>9</td>\n",
       "      <td>69763</td>\n",
       "      <td>HU</td>\n",
       "      <td>2</td>\n",
       "      <td>30</td>\n",
       "      <td>30</td>\n",
       "      <td>11</td>\n",
       "      <td>15</td>\n",
       "      <td>5</td>\n",
       "      <td>80</td>\n",
       "      <td>...</td>\n",
       "      <td>2</td>\n",
       "      <td>2</td>\n",
       "      <td>2</td>\n",
       "      <td>3</td>\n",
       "      <td>10</td>\n",
       "      <td>9</td>\n",
       "      <td>2</td>\n",
       "      <td>6666</td>\n",
       "      <td>NaN</td>\n",
       "      <td>769680646915315</td>\n",
       "    </tr>\n",
       "    <tr>\n",
       "      <th>1658</th>\n",
       "      <td>9</td>\n",
       "      <td>69782</td>\n",
       "      <td>HU</td>\n",
       "      <td>2</td>\n",
       "      <td>79</td>\n",
       "      <td>10</td>\n",
       "      <td>5</td>\n",
       "      <td>70</td>\n",
       "      <td>1</td>\n",
       "      <td>6666</td>\n",
       "      <td>...</td>\n",
       "      <td>2</td>\n",
       "      <td>2</td>\n",
       "      <td>3</td>\n",
       "      <td>2</td>\n",
       "      <td>8</td>\n",
       "      <td>6</td>\n",
       "      <td>2</td>\n",
       "      <td>6666</td>\n",
       "      <td>1.0</td>\n",
       "      <td>260606948001</td>\n",
       "    </tr>\n",
       "    <tr>\n",
       "      <th>1659</th>\n",
       "      <td>9</td>\n",
       "      <td>69846</td>\n",
       "      <td>HU</td>\n",
       "      <td>1</td>\n",
       "      <td>73</td>\n",
       "      <td>8</td>\n",
       "      <td>2</td>\n",
       "      <td>60</td>\n",
       "      <td>2</td>\n",
       "      <td>6666</td>\n",
       "      <td>...</td>\n",
       "      <td>2</td>\n",
       "      <td>2</td>\n",
       "      <td>2</td>\n",
       "      <td>3</td>\n",
       "      <td>1</td>\n",
       "      <td>1</td>\n",
       "      <td>2</td>\n",
       "      <td>6666</td>\n",
       "      <td>1.0</td>\n",
       "      <td>260606948001</td>\n",
       "    </tr>\n",
       "    <tr>\n",
       "      <th>1660</th>\n",
       "      <td>9</td>\n",
       "      <td>69944</td>\n",
       "      <td>HU</td>\n",
       "      <td>1</td>\n",
       "      <td>53</td>\n",
       "      <td>13</td>\n",
       "      <td>4</td>\n",
       "      <td>90</td>\n",
       "      <td>5</td>\n",
       "      <td>180</td>\n",
       "      <td>...</td>\n",
       "      <td>2</td>\n",
       "      <td>2</td>\n",
       "      <td>3</td>\n",
       "      <td>3</td>\n",
       "      <td>8</td>\n",
       "      <td>8</td>\n",
       "      <td>1</td>\n",
       "      <td>110</td>\n",
       "      <td>1.0</td>\n",
       "      <td>260606948001</td>\n",
       "    </tr>\n",
       "  </tbody>\n",
       "</table>\n",
       "<p>5 rows × 56 columns</p>\n",
       "</div>"
      ],
      "text/plain": [
       "      essround   idno cntry  gndr  agea  eduyrs  edlvdhu  nwspol  netusoft  \\\n",
       "1656         9  69733    HU     2    28      17       13      20         5   \n",
       "1657         9  69763    HU     2    30      30       11      15         5   \n",
       "1658         9  69782    HU     2    79      10        5      70         1   \n",
       "1659         9  69846    HU     1    73       8        2      60         2   \n",
       "1660         9  69944    HU     1    53      13        4      90         5   \n",
       "\n",
       "      netustm  ...  crmvct  aesfdrk  health  hlthhmp  atchctr  atcherp  \\\n",
       "1656      180  ...       2        2       1        3        7        6   \n",
       "1657       80  ...       2        2       2        3       10        9   \n",
       "1658     6666  ...       2        2       3        2        8        6   \n",
       "1659     6666  ...       2        2       2        3        1        1   \n",
       "1660      180  ...       2        2       3        3        8        8   \n",
       "\n",
       "      rlgblg  rlgdnhu  dweight      Unnamed: 55  \n",
       "1656       2     6666      NaN  778454429088892  \n",
       "1657       2     6666      NaN  769680646915315  \n",
       "1658       2     6666      1.0     260606948001  \n",
       "1659       2     6666      1.0     260606948001  \n",
       "1660       1      110      1.0     260606948001  \n",
       "\n",
       "[5 rows x 56 columns]"
      ]
     },
     "execution_count": 13,
     "metadata": {},
     "output_type": "execute_result"
    }
   ],
   "source": [
    "ess_9.tail()"
   ]
  },
  {
   "cell_type": "markdown",
   "metadata": {},
   "source": [
    "DataFrame oszlopcimkéinek megjelenítése\n",
    "\n",
    "A [változónevek](https://stessrelpubprodwe.blob.core.windows.net/data/round9/survey/ESS9_appendix_a7_e03_1.pdf) értelmezése"
   ]
  },
  {
   "cell_type": "code",
   "execution_count": 14,
   "metadata": {},
   "outputs": [
    {
     "data": {
      "text/plain": [
       "Index(['essround', 'idno', 'cntry', 'gndr', 'agea', 'eduyrs', 'edlvdhu',\n",
       "       'nwspol', 'netusoft', 'netustm', 'ppltrst', 'pplfair', 'pplhlp',\n",
       "       'polintr', 'polintr_extreme', 'psppsgva', 'actrolga', 'psppipla',\n",
       "       'cptppola', 'trstprl', 'trstlgl', 'trstplc', 'trstplt', 'trstprt',\n",
       "       'lrscale', 'stflife', 'stfeco', 'stfgov', 'stfdem', 'stfedu', 'stfhlth',\n",
       "       'gincdif', 'freehms', 'hmsfmlsh', 'hmsacld', 'euftf', 'imsmetn',\n",
       "       'imdfetn', 'impcntr', 'imbgeco', 'imueclt', 'imwbcnt', 'happy',\n",
       "       'sclmeet', 'inprdsc', 'sclact', 'crmvct', 'aesfdrk', 'health',\n",
       "       'hlthhmp', 'atchctr', 'atcherp', 'rlgblg', 'rlgdnhu', 'dweight',\n",
       "       'Unnamed: 55'],\n",
       "      dtype='object')"
      ]
     },
     "execution_count": 14,
     "metadata": {},
     "output_type": "execute_result"
    }
   ],
   "source": [
    "ess_9.columns"
   ]
  },
  {
   "cell_type": "markdown",
   "metadata": {},
   "source": [
    "DataFrame oszlopcimkéinek listában való megjelenítése"
   ]
  },
  {
   "cell_type": "code",
   "execution_count": 15,
   "metadata": {},
   "outputs": [
    {
     "data": {
      "text/plain": [
       "['essround',\n",
       " 'idno',\n",
       " 'cntry',\n",
       " 'gndr',\n",
       " 'agea',\n",
       " 'eduyrs',\n",
       " 'edlvdhu',\n",
       " 'nwspol',\n",
       " 'netusoft',\n",
       " 'netustm',\n",
       " 'ppltrst',\n",
       " 'pplfair',\n",
       " 'pplhlp',\n",
       " 'polintr',\n",
       " 'polintr_extreme',\n",
       " 'psppsgva',\n",
       " 'actrolga',\n",
       " 'psppipla',\n",
       " 'cptppola',\n",
       " 'trstprl',\n",
       " 'trstlgl',\n",
       " 'trstplc',\n",
       " 'trstplt',\n",
       " 'trstprt',\n",
       " 'lrscale',\n",
       " 'stflife',\n",
       " 'stfeco',\n",
       " 'stfgov',\n",
       " 'stfdem',\n",
       " 'stfedu',\n",
       " 'stfhlth',\n",
       " 'gincdif',\n",
       " 'freehms',\n",
       " 'hmsfmlsh',\n",
       " 'hmsacld',\n",
       " 'euftf',\n",
       " 'imsmetn',\n",
       " 'imdfetn',\n",
       " 'impcntr',\n",
       " 'imbgeco',\n",
       " 'imueclt',\n",
       " 'imwbcnt',\n",
       " 'happy',\n",
       " 'sclmeet',\n",
       " 'inprdsc',\n",
       " 'sclact',\n",
       " 'crmvct',\n",
       " 'aesfdrk',\n",
       " 'health',\n",
       " 'hlthhmp',\n",
       " 'atchctr',\n",
       " 'atcherp',\n",
       " 'rlgblg',\n",
       " 'rlgdnhu',\n",
       " 'dweight',\n",
       " 'Unnamed: 55']"
      ]
     },
     "execution_count": 15,
     "metadata": {},
     "output_type": "execute_result"
    }
   ],
   "source": [
    "ess_9.columns.to_list()"
   ]
  },
  {
   "cell_type": "markdown",
   "metadata": {},
   "source": [
    "Oszlopokra, elemekre való hivatkozás\n",
    "\n",
    "Loc, Iloc"
   ]
  },
  {
   "cell_type": "code",
   "execution_count": 16,
   "metadata": {},
   "outputs": [
    {
     "name": "stdout",
     "output_type": "stream",
     "text": [
      "0       37\n",
      "1       70\n",
      "2       67\n",
      "3       38\n",
      "4       30\n",
      "        ..\n",
      "1656    28\n",
      "1657    30\n",
      "1658    79\n",
      "1659    73\n",
      "1660    53\n",
      "Name: agea, Length: 1661, dtype: int64\n",
      "      agea  gndr\n",
      "0       37     2\n",
      "1       70     2\n",
      "2       67     2\n",
      "3       38     1\n",
      "4       30     1\n",
      "...    ...   ...\n",
      "1656    28     2\n",
      "1657    30     2\n",
      "1658    79     2\n",
      "1659    73     1\n",
      "1660    53     1\n",
      "\n",
      "[1661 rows x 2 columns]\n"
     ]
    }
   ],
   "source": [
    "#oszlopra név alapján\n",
    "print(ess_9[\"agea\"])\n",
    "\n",
    "#oszlopra több név alapján\n",
    "print(ess_9[[\"agea\", \"gndr\"]])"
   ]
  },
  {
   "cell_type": "code",
   "execution_count": 17,
   "metadata": {},
   "outputs": [
    {
     "name": "stdout",
     "output_type": "stream",
     "text": [
      "      agea  gndr\n",
      "0       37     2\n",
      "1       70     2\n",
      "2       67     2\n",
      "3       38     1\n",
      "4       30     1\n",
      "...    ...   ...\n",
      "1656    28     2\n",
      "1657    30     2\n",
      "1658    79     2\n",
      "1659    73     1\n",
      "1660    53     1\n",
      "\n",
      "[1661 rows x 2 columns]\n"
     ]
    }
   ],
   "source": [
    "print(ess_9.loc[:,[\"agea\", \"gndr\"]]) #loc a labelek alapján dolgozik"
   ]
  },
  {
   "cell_type": "code",
   "execution_count": 18,
   "metadata": {},
   "outputs": [
    {
     "data": {
      "text/plain": [
       "0       12\n",
       "1        8\n",
       "2       17\n",
       "3       11\n",
       "4       14\n",
       "        ..\n",
       "1656    17\n",
       "1657    30\n",
       "1658    10\n",
       "1659     8\n",
       "1660    13\n",
       "Name: eduyrs, Length: 1661, dtype: int64"
      ]
     },
     "execution_count": 18,
     "metadata": {},
     "output_type": "execute_result"
    }
   ],
   "source": [
    "ess_9.iloc[:,5] # az iloc az oszlopok sorszáma alapján dolgozik"
   ]
  },
  {
   "cell_type": "code",
   "execution_count": 19,
   "metadata": {},
   "outputs": [
    {
     "data": {
      "text/html": [
       "<div>\n",
       "<style scoped>\n",
       "    .dataframe tbody tr th:only-of-type {\n",
       "        vertical-align: middle;\n",
       "    }\n",
       "\n",
       "    .dataframe tbody tr th {\n",
       "        vertical-align: top;\n",
       "    }\n",
       "\n",
       "    .dataframe thead th {\n",
       "        text-align: right;\n",
       "    }\n",
       "</style>\n",
       "<table border=\"1\" class=\"dataframe\">\n",
       "  <thead>\n",
       "    <tr style=\"text-align: right;\">\n",
       "      <th></th>\n",
       "      <th>idno</th>\n",
       "      <th>cntry</th>\n",
       "      <th>gndr</th>\n",
       "      <th>agea</th>\n",
       "    </tr>\n",
       "  </thead>\n",
       "  <tbody>\n",
       "    <tr>\n",
       "      <th>0</th>\n",
       "      <td>118</td>\n",
       "      <td>HU</td>\n",
       "      <td>2</td>\n",
       "      <td>37</td>\n",
       "    </tr>\n",
       "    <tr>\n",
       "      <th>1</th>\n",
       "      <td>182</td>\n",
       "      <td>HU</td>\n",
       "      <td>2</td>\n",
       "      <td>70</td>\n",
       "    </tr>\n",
       "    <tr>\n",
       "      <th>2</th>\n",
       "      <td>220</td>\n",
       "      <td>HU</td>\n",
       "      <td>2</td>\n",
       "      <td>67</td>\n",
       "    </tr>\n",
       "    <tr>\n",
       "      <th>3</th>\n",
       "      <td>234</td>\n",
       "      <td>HU</td>\n",
       "      <td>1</td>\n",
       "      <td>38</td>\n",
       "    </tr>\n",
       "    <tr>\n",
       "      <th>4</th>\n",
       "      <td>239</td>\n",
       "      <td>HU</td>\n",
       "      <td>1</td>\n",
       "      <td>30</td>\n",
       "    </tr>\n",
       "    <tr>\n",
       "      <th>...</th>\n",
       "      <td>...</td>\n",
       "      <td>...</td>\n",
       "      <td>...</td>\n",
       "      <td>...</td>\n",
       "    </tr>\n",
       "    <tr>\n",
       "      <th>1656</th>\n",
       "      <td>69733</td>\n",
       "      <td>HU</td>\n",
       "      <td>2</td>\n",
       "      <td>28</td>\n",
       "    </tr>\n",
       "    <tr>\n",
       "      <th>1657</th>\n",
       "      <td>69763</td>\n",
       "      <td>HU</td>\n",
       "      <td>2</td>\n",
       "      <td>30</td>\n",
       "    </tr>\n",
       "    <tr>\n",
       "      <th>1658</th>\n",
       "      <td>69782</td>\n",
       "      <td>HU</td>\n",
       "      <td>2</td>\n",
       "      <td>79</td>\n",
       "    </tr>\n",
       "    <tr>\n",
       "      <th>1659</th>\n",
       "      <td>69846</td>\n",
       "      <td>HU</td>\n",
       "      <td>1</td>\n",
       "      <td>73</td>\n",
       "    </tr>\n",
       "    <tr>\n",
       "      <th>1660</th>\n",
       "      <td>69944</td>\n",
       "      <td>HU</td>\n",
       "      <td>1</td>\n",
       "      <td>53</td>\n",
       "    </tr>\n",
       "  </tbody>\n",
       "</table>\n",
       "<p>1661 rows × 4 columns</p>\n",
       "</div>"
      ],
      "text/plain": [
       "       idno cntry  gndr  agea\n",
       "0       118    HU     2    37\n",
       "1       182    HU     2    70\n",
       "2       220    HU     2    67\n",
       "3       234    HU     1    38\n",
       "4       239    HU     1    30\n",
       "...     ...   ...   ...   ...\n",
       "1656  69733    HU     2    28\n",
       "1657  69763    HU     2    30\n",
       "1658  69782    HU     2    79\n",
       "1659  69846    HU     1    73\n",
       "1660  69944    HU     1    53\n",
       "\n",
       "[1661 rows x 4 columns]"
      ]
     },
     "execution_count": 19,
     "metadata": {},
     "output_type": "execute_result"
    }
   ],
   "source": [
    "ess_9.iloc[:, 1:5]"
   ]
  },
  {
   "cell_type": "code",
   "execution_count": 20,
   "metadata": {},
   "outputs": [
    {
     "data": {
      "text/html": [
       "<div>\n",
       "<style scoped>\n",
       "    .dataframe tbody tr th:only-of-type {\n",
       "        vertical-align: middle;\n",
       "    }\n",
       "\n",
       "    .dataframe tbody tr th {\n",
       "        vertical-align: top;\n",
       "    }\n",
       "\n",
       "    .dataframe thead th {\n",
       "        text-align: right;\n",
       "    }\n",
       "</style>\n",
       "<table border=\"1\" class=\"dataframe\">\n",
       "  <thead>\n",
       "    <tr style=\"text-align: right;\">\n",
       "      <th></th>\n",
       "      <th>essround</th>\n",
       "      <th>sclact</th>\n",
       "    </tr>\n",
       "  </thead>\n",
       "  <tbody>\n",
       "    <tr>\n",
       "      <th>0</th>\n",
       "      <td>9</td>\n",
       "      <td>2</td>\n",
       "    </tr>\n",
       "    <tr>\n",
       "      <th>1</th>\n",
       "      <td>9</td>\n",
       "      <td>1</td>\n",
       "    </tr>\n",
       "    <tr>\n",
       "      <th>2</th>\n",
       "      <td>9</td>\n",
       "      <td>4</td>\n",
       "    </tr>\n",
       "    <tr>\n",
       "      <th>3</th>\n",
       "      <td>9</td>\n",
       "      <td>4</td>\n",
       "    </tr>\n",
       "    <tr>\n",
       "      <th>4</th>\n",
       "      <td>9</td>\n",
       "      <td>3</td>\n",
       "    </tr>\n",
       "    <tr>\n",
       "      <th>...</th>\n",
       "      <td>...</td>\n",
       "      <td>...</td>\n",
       "    </tr>\n",
       "    <tr>\n",
       "      <th>1656</th>\n",
       "      <td>9</td>\n",
       "      <td>4</td>\n",
       "    </tr>\n",
       "    <tr>\n",
       "      <th>1657</th>\n",
       "      <td>9</td>\n",
       "      <td>2</td>\n",
       "    </tr>\n",
       "    <tr>\n",
       "      <th>1658</th>\n",
       "      <td>9</td>\n",
       "      <td>2</td>\n",
       "    </tr>\n",
       "    <tr>\n",
       "      <th>1659</th>\n",
       "      <td>9</td>\n",
       "      <td>2</td>\n",
       "    </tr>\n",
       "    <tr>\n",
       "      <th>1660</th>\n",
       "      <td>9</td>\n",
       "      <td>2</td>\n",
       "    </tr>\n",
       "  </tbody>\n",
       "</table>\n",
       "<p>1661 rows × 2 columns</p>\n",
       "</div>"
      ],
      "text/plain": [
       "      essround  sclact\n",
       "0            9       2\n",
       "1            9       1\n",
       "2            9       4\n",
       "3            9       4\n",
       "4            9       3\n",
       "...        ...     ...\n",
       "1656         9       4\n",
       "1657         9       2\n",
       "1658         9       2\n",
       "1659         9       2\n",
       "1660         9       2\n",
       "\n",
       "[1661 rows x 2 columns]"
      ]
     },
     "execution_count": 20,
     "metadata": {},
     "output_type": "execute_result"
    }
   ],
   "source": [
    "ess_9.iloc[:,[0,45]]"
   ]
  },
  {
   "cell_type": "code",
   "execution_count": 21,
   "metadata": {},
   "outputs": [
    {
     "data": {
      "text/html": [
       "<div>\n",
       "<style scoped>\n",
       "    .dataframe tbody tr th:only-of-type {\n",
       "        vertical-align: middle;\n",
       "    }\n",
       "\n",
       "    .dataframe tbody tr th {\n",
       "        vertical-align: top;\n",
       "    }\n",
       "\n",
       "    .dataframe thead th {\n",
       "        text-align: right;\n",
       "    }\n",
       "</style>\n",
       "<table border=\"1\" class=\"dataframe\">\n",
       "  <thead>\n",
       "    <tr style=\"text-align: right;\">\n",
       "      <th></th>\n",
       "      <th>essround</th>\n",
       "      <th>idno</th>\n",
       "      <th>cntry</th>\n",
       "      <th>gndr</th>\n",
       "      <th>agea</th>\n",
       "      <th>eduyrs</th>\n",
       "      <th>edlvdhu</th>\n",
       "      <th>nwspol</th>\n",
       "      <th>netusoft</th>\n",
       "      <th>netustm</th>\n",
       "      <th>...</th>\n",
       "      <th>crmvct</th>\n",
       "      <th>aesfdrk</th>\n",
       "      <th>health</th>\n",
       "      <th>hlthhmp</th>\n",
       "      <th>atchctr</th>\n",
       "      <th>atcherp</th>\n",
       "      <th>rlgblg</th>\n",
       "      <th>rlgdnhu</th>\n",
       "      <th>dweight</th>\n",
       "      <th>Unnamed: 55</th>\n",
       "    </tr>\n",
       "  </thead>\n",
       "  <tbody>\n",
       "    <tr>\n",
       "      <th>3</th>\n",
       "      <td>9</td>\n",
       "      <td>234</td>\n",
       "      <td>HU</td>\n",
       "      <td>1</td>\n",
       "      <td>38</td>\n",
       "      <td>11</td>\n",
       "      <td>7</td>\n",
       "      <td>60</td>\n",
       "      <td>2</td>\n",
       "      <td>6666</td>\n",
       "      <td>...</td>\n",
       "      <td>2</td>\n",
       "      <td>2</td>\n",
       "      <td>2</td>\n",
       "      <td>3</td>\n",
       "      <td>2</td>\n",
       "      <td>3</td>\n",
       "      <td>1</td>\n",
       "      <td>280</td>\n",
       "      <td>NaN</td>\n",
       "      <td>809827184002287</td>\n",
       "    </tr>\n",
       "    <tr>\n",
       "      <th>4</th>\n",
       "      <td>9</td>\n",
       "      <td>239</td>\n",
       "      <td>HU</td>\n",
       "      <td>1</td>\n",
       "      <td>30</td>\n",
       "      <td>14</td>\n",
       "      <td>7</td>\n",
       "      <td>10</td>\n",
       "      <td>5</td>\n",
       "      <td>120</td>\n",
       "      <td>...</td>\n",
       "      <td>2</td>\n",
       "      <td>1</td>\n",
       "      <td>1</td>\n",
       "      <td>3</td>\n",
       "      <td>7</td>\n",
       "      <td>7</td>\n",
       "      <td>1</td>\n",
       "      <td>110</td>\n",
       "      <td>1.0</td>\n",
       "      <td>260606948001</td>\n",
       "    </tr>\n",
       "    <tr>\n",
       "      <th>5</th>\n",
       "      <td>9</td>\n",
       "      <td>246</td>\n",
       "      <td>HU</td>\n",
       "      <td>1</td>\n",
       "      <td>51</td>\n",
       "      <td>11</td>\n",
       "      <td>4</td>\n",
       "      <td>790</td>\n",
       "      <td>1</td>\n",
       "      <td>6666</td>\n",
       "      <td>...</td>\n",
       "      <td>2</td>\n",
       "      <td>2</td>\n",
       "      <td>2</td>\n",
       "      <td>3</td>\n",
       "      <td>8</td>\n",
       "      <td>4</td>\n",
       "      <td>1</td>\n",
       "      <td>110</td>\n",
       "      <td>NaN</td>\n",
       "      <td>7752161673079</td>\n",
       "    </tr>\n",
       "  </tbody>\n",
       "</table>\n",
       "<p>3 rows × 56 columns</p>\n",
       "</div>"
      ],
      "text/plain": [
       "   essround  idno cntry  gndr  agea  eduyrs  edlvdhu  nwspol  netusoft  \\\n",
       "3         9   234    HU     1    38      11        7      60         2   \n",
       "4         9   239    HU     1    30      14        7      10         5   \n",
       "5         9   246    HU     1    51      11        4     790         1   \n",
       "\n",
       "   netustm  ...  crmvct  aesfdrk  health  hlthhmp  atchctr  atcherp  rlgblg  \\\n",
       "3     6666  ...       2        2       2        3        2        3       1   \n",
       "4      120  ...       2        1       1        3        7        7       1   \n",
       "5     6666  ...       2        2       2        3        8        4       1   \n",
       "\n",
       "   rlgdnhu  dweight      Unnamed: 55  \n",
       "3      280      NaN  809827184002287  \n",
       "4      110      1.0     260606948001  \n",
       "5      110      NaN    7752161673079  \n",
       "\n",
       "[3 rows x 56 columns]"
      ]
     },
     "execution_count": 21,
     "metadata": {},
     "output_type": "execute_result"
    }
   ],
   "source": [
    "#konkrét sorokat veszek figyelembe\n",
    "ess_9.loc[3:5]"
   ]
  },
  {
   "cell_type": "code",
   "execution_count": 22,
   "metadata": {},
   "outputs": [
    {
     "data": {
      "text/html": [
       "<div>\n",
       "<style scoped>\n",
       "    .dataframe tbody tr th:only-of-type {\n",
       "        vertical-align: middle;\n",
       "    }\n",
       "\n",
       "    .dataframe tbody tr th {\n",
       "        vertical-align: top;\n",
       "    }\n",
       "\n",
       "    .dataframe thead th {\n",
       "        text-align: right;\n",
       "    }\n",
       "</style>\n",
       "<table border=\"1\" class=\"dataframe\">\n",
       "  <thead>\n",
       "    <tr style=\"text-align: right;\">\n",
       "      <th></th>\n",
       "      <th>essround</th>\n",
       "      <th>idno</th>\n",
       "      <th>cntry</th>\n",
       "      <th>gndr</th>\n",
       "      <th>agea</th>\n",
       "      <th>eduyrs</th>\n",
       "      <th>edlvdhu</th>\n",
       "      <th>nwspol</th>\n",
       "      <th>netusoft</th>\n",
       "      <th>netustm</th>\n",
       "      <th>...</th>\n",
       "      <th>crmvct</th>\n",
       "      <th>aesfdrk</th>\n",
       "      <th>health</th>\n",
       "      <th>hlthhmp</th>\n",
       "      <th>atchctr</th>\n",
       "      <th>atcherp</th>\n",
       "      <th>rlgblg</th>\n",
       "      <th>rlgdnhu</th>\n",
       "      <th>dweight</th>\n",
       "      <th>Unnamed: 55</th>\n",
       "    </tr>\n",
       "  </thead>\n",
       "  <tbody>\n",
       "    <tr>\n",
       "      <th>1</th>\n",
       "      <td>9</td>\n",
       "      <td>182</td>\n",
       "      <td>HU</td>\n",
       "      <td>2</td>\n",
       "      <td>70</td>\n",
       "      <td>8</td>\n",
       "      <td>3</td>\n",
       "      <td>45</td>\n",
       "      <td>1</td>\n",
       "      <td>6666</td>\n",
       "      <td>...</td>\n",
       "      <td>2</td>\n",
       "      <td>2</td>\n",
       "      <td>3</td>\n",
       "      <td>3</td>\n",
       "      <td>10</td>\n",
       "      <td>10</td>\n",
       "      <td>1</td>\n",
       "      <td>120</td>\n",
       "      <td>NaN</td>\n",
       "      <td>778454429088892</td>\n",
       "    </tr>\n",
       "    <tr>\n",
       "      <th>4</th>\n",
       "      <td>9</td>\n",
       "      <td>239</td>\n",
       "      <td>HU</td>\n",
       "      <td>1</td>\n",
       "      <td>30</td>\n",
       "      <td>14</td>\n",
       "      <td>7</td>\n",
       "      <td>10</td>\n",
       "      <td>5</td>\n",
       "      <td>120</td>\n",
       "      <td>...</td>\n",
       "      <td>2</td>\n",
       "      <td>1</td>\n",
       "      <td>1</td>\n",
       "      <td>3</td>\n",
       "      <td>7</td>\n",
       "      <td>7</td>\n",
       "      <td>1</td>\n",
       "      <td>110</td>\n",
       "      <td>1.0</td>\n",
       "      <td>260606948001</td>\n",
       "    </tr>\n",
       "    <tr>\n",
       "      <th>5</th>\n",
       "      <td>9</td>\n",
       "      <td>246</td>\n",
       "      <td>HU</td>\n",
       "      <td>1</td>\n",
       "      <td>51</td>\n",
       "      <td>11</td>\n",
       "      <td>4</td>\n",
       "      <td>790</td>\n",
       "      <td>1</td>\n",
       "      <td>6666</td>\n",
       "      <td>...</td>\n",
       "      <td>2</td>\n",
       "      <td>2</td>\n",
       "      <td>2</td>\n",
       "      <td>3</td>\n",
       "      <td>8</td>\n",
       "      <td>4</td>\n",
       "      <td>1</td>\n",
       "      <td>110</td>\n",
       "      <td>NaN</td>\n",
       "      <td>7752161673079</td>\n",
       "    </tr>\n",
       "    <tr>\n",
       "      <th>8</th>\n",
       "      <td>9</td>\n",
       "      <td>541</td>\n",
       "      <td>HU</td>\n",
       "      <td>2</td>\n",
       "      <td>61</td>\n",
       "      <td>23</td>\n",
       "      <td>10</td>\n",
       "      <td>10</td>\n",
       "      <td>5</td>\n",
       "      <td>90</td>\n",
       "      <td>...</td>\n",
       "      <td>2</td>\n",
       "      <td>2</td>\n",
       "      <td>2</td>\n",
       "      <td>3</td>\n",
       "      <td>10</td>\n",
       "      <td>3</td>\n",
       "      <td>1</td>\n",
       "      <td>110</td>\n",
       "      <td>1.0</td>\n",
       "      <td>260606948001</td>\n",
       "    </tr>\n",
       "  </tbody>\n",
       "</table>\n",
       "<p>4 rows × 56 columns</p>\n",
       "</div>"
      ],
      "text/plain": [
       "   essround  idno cntry  gndr  agea  eduyrs  edlvdhu  nwspol  netusoft  \\\n",
       "1         9   182    HU     2    70       8        3      45         1   \n",
       "4         9   239    HU     1    30      14        7      10         5   \n",
       "5         9   246    HU     1    51      11        4     790         1   \n",
       "8         9   541    HU     2    61      23       10      10         5   \n",
       "\n",
       "   netustm  ...  crmvct  aesfdrk  health  hlthhmp  atchctr  atcherp  rlgblg  \\\n",
       "1     6666  ...       2        2       3        3       10       10       1   \n",
       "4      120  ...       2        1       1        3        7        7       1   \n",
       "5     6666  ...       2        2       2        3        8        4       1   \n",
       "8       90  ...       2        2       2        3       10        3       1   \n",
       "\n",
       "   rlgdnhu  dweight      Unnamed: 55  \n",
       "1      120      NaN  778454429088892  \n",
       "4      110      1.0     260606948001  \n",
       "5      110      NaN    7752161673079  \n",
       "8      110      1.0     260606948001  \n",
       "\n",
       "[4 rows x 56 columns]"
      ]
     },
     "execution_count": 22,
     "metadata": {},
     "output_type": "execute_result"
    }
   ],
   "source": [
    "ess_9.iloc[[1, 4, 5, 8]]"
   ]
  },
  {
   "cell_type": "code",
   "execution_count": 23,
   "metadata": {},
   "outputs": [
    {
     "data": {
      "text/plain": [
       "np.int64(37)"
      ]
     },
     "execution_count": 23,
     "metadata": {},
     "output_type": "execute_result"
    }
   ],
   "source": [
    "#konkrét elemre való hivatkozás sorszám alapján\n",
    "ess_9[\"agea\"][0]"
   ]
  },
  {
   "cell_type": "markdown",
   "metadata": {},
   "source": [
    "Leíró statisztikák"
   ]
  },
  {
   "cell_type": "code",
   "execution_count": 24,
   "metadata": {},
   "outputs": [
    {
     "name": "stdout",
     "output_type": "stream",
     "text": [
      "90\n",
      "50.97471402769416\n"
     ]
    },
    {
     "data": {
      "text/plain": [
       "count    1661.000000\n",
       "mean       50.974714\n",
       "std        18.476409\n",
       "min        16.000000\n",
       "25%        37.000000\n",
       "50%        51.000000\n",
       "75%        66.000000\n",
       "max        90.000000\n",
       "Name: agea, dtype: float64"
      ]
     },
     "execution_count": 24,
     "metadata": {},
     "output_type": "execute_result"
    }
   ],
   "source": [
    "# leíró statisztikák\n",
    "print(ess_9[\"agea\"].max())\n",
    "\n",
    "print(ess_9[\"agea\"].mean())\n",
    "\n",
    "ess_9[\"agea\"].describe()"
   ]
  },
  {
   "cell_type": "markdown",
   "metadata": {},
   "source": [
    "Sorok kiválasztása feltétel alapján"
   ]
  },
  {
   "cell_type": "code",
   "execution_count": null,
   "metadata": {},
   "outputs": [],
   "source": [
    "#csak a 25 évnél idősebbeket tarjuk meg a kor_25 dataframeben\n",
    "kor_25 = ess_9[ess_9[\"agea\"] > 25] \n",
    "\n",
    "print(len(kor_25))\n",
    "kor_25"
   ]
  },
  {
   "cell_type": "code",
   "execution_count": null,
   "metadata": {},
   "outputs": [],
   "source": [
    "# csak azokat tartjuk meg akik az egészségügyi állapotukat 1-esre vagy 2-esre ítélték meg\n",
    "eu_rossz = ess_9[(ess_9[\"health\"] == 1 )| (ess_9[\"health\"] == 2)]\n",
    "eu_rossz"
   ]
  },
  {
   "cell_type": "code",
   "execution_count": null,
   "metadata": {},
   "outputs": [],
   "source": [
    "kor_25 = ess_9.loc[ess_9.agea > 25] #loc segítségével\n",
    "kor_25"
   ]
  },
  {
   "cell_type": "code",
   "execution_count": null,
   "metadata": {},
   "outputs": [],
   "source": [
    "ess_9.loc[(ess_9[\"gndr\"] == 1) & (ess_9[\"agea\"] > 50)] #loc segítségével"
   ]
  },
  {
   "cell_type": "code",
   "execution_count": null,
   "metadata": {},
   "outputs": [],
   "source": [
    "#egyes oszlopok gyakorisági megoszlása: emberekbe vetett bizalom\n",
    "ess_9[\"ppltrst\"].value_counts()"
   ]
  },
  {
   "cell_type": "markdown",
   "metadata": {},
   "source": [
    "### Adathiány vizsgálata az adatbázisban"
   ]
  },
  {
   "cell_type": "markdown",
   "metadata": {},
   "source": [
    "DataFrame N/A értékeinek vizsgálata cellánként"
   ]
  },
  {
   "cell_type": "code",
   "execution_count": null,
   "metadata": {},
   "outputs": [],
   "source": [
    "ess_9.isna() #azadatbázisban a dweight változónál van adathiány, ez az egyik féle súlyozás"
   ]
  },
  {
   "cell_type": "markdown",
   "metadata": {},
   "source": [
    "DataFrame N/A értékeinek összesítése oszloponként"
   ]
  },
  {
   "cell_type": "code",
   "execution_count": null,
   "metadata": {},
   "outputs": [],
   "source": [
    "ess_9.isna().sum()"
   ]
  },
  {
   "cell_type": "markdown",
   "metadata": {},
   "source": [
    "DataFrame N/A értékeinek sorbarendezett összesítése"
   ]
  },
  {
   "cell_type": "code",
   "execution_count": null,
   "metadata": {},
   "outputs": [],
   "source": [
    "ess_9.isna().sum().sort_values(ascending=False)"
   ]
  },
  {
   "cell_type": "markdown",
   "metadata": {},
   "source": [
    "DataFrame N/A értékeinek sorbarendezett összesítése dict formátumban visszaadva"
   ]
  },
  {
   "cell_type": "code",
   "execution_count": null,
   "metadata": {},
   "outputs": [],
   "source": [
    "ess_9.isna().sum().sort_values(ascending=False).to_dict()"
   ]
  },
  {
   "cell_type": "markdown",
   "metadata": {},
   "source": [
    "DataFrame N/A értékeinek sorbarendezett összesítése DataFrame formátumban visszaadva"
   ]
  },
  {
   "cell_type": "code",
   "execution_count": null,
   "metadata": {},
   "outputs": [],
   "source": [
    "pd.DataFrame(ess_9.isna().sum().sort_values(ascending=False))"
   ]
  },
  {
   "cell_type": "markdown",
   "metadata": {},
   "source": [
    "DataFrame N/A értékeinek eldobása a metódus beállítása nélkül"
   ]
  },
  {
   "cell_type": "code",
   "execution_count": null,
   "metadata": {},
   "outputs": [],
   "source": [
    "ess_9.dropna()"
   ]
  },
  {
   "cell_type": "markdown",
   "metadata": {},
   "source": [
    "DataFrame N/A értékeinek eldobása a metódus beállításával: ```axis=0``` a vizsgálati egység a DataFrame sorai, ```how=\"any\"``` akárcsak egyetlen N/A érték esetén már dobja el a vizsgált egységet"
   ]
  },
  {
   "cell_type": "code",
   "execution_count": null,
   "metadata": {},
   "outputs": [],
   "source": [
    "#axis lehet 0 (sorokat dob ki) vagy 1 (oszlopokat dob ki), how any (ha egy is NaN akkor kidobja) vagy all (ha mindegyik érték Nan kidobja)\n",
    "ess_9.dropna(axis=0, how=\"any\")"
   ]
  },
  {
   "cell_type": "markdown",
   "metadata": {},
   "source": [
    "A DataFrame-nek továbbra is kutya baja, mivel *nem történt értékátadás*"
   ]
  },
  {
   "cell_type": "code",
   "execution_count": null,
   "metadata": {},
   "outputs": [],
   "source": [
    "ess_9.head()"
   ]
  },
  {
   "cell_type": "markdown",
   "metadata": {},
   "source": [
    "A DataFrame sorainak száma"
   ]
  },
  {
   "cell_type": "code",
   "execution_count": null,
   "metadata": {},
   "outputs": [],
   "source": [
    "len(ess_9)"
   ]
  },
  {
   "cell_type": "markdown",
   "metadata": {},
   "source": [
    "DataFrame N/A értékeinek eldobása a metódus beállításával: ```axis=1``` a vizsgálati egység a DataFrame oszlopai, ```thresh=``` küszöbérték, mely azt határozza meg, hogy a vizsgálati egységet nézve hány *nem* N/A érték felett *tartsa meg* a vizsgálati egységet.\n",
    " - Ez jelen esetben 45%, mivel ```thresh=(len(df)*0.45)```, ahol a ```len(df)``` adja meg, hogy hány érték van egy oszlopban (ami most a vizsgálati egységünk), és ennek az értéknek vesszük a ```0.45```-szörösét, tehát a 45%-át"
   ]
  },
  {
   "cell_type": "code",
   "execution_count": null,
   "metadata": {},
   "outputs": [],
   "source": [
    "ess_9.dropna(axis=1, thresh=(len(df)*0.45))"
   ]
  },
  {
   "cell_type": "markdown",
   "metadata": {},
   "source": [
    "### Adattípusok"
   ]
  },
  {
   "cell_type": "markdown",
   "metadata": {},
   "source": [
    "A DataFrame oszlopaira érvényes adattípusok megjelenítése. Az ```object``` adattípus egy \"catch-all\" forma, amiről nem tudja a pandas egyértelműen eldönteni, hogy milyen formátum lenne a legjobb, azt magától ```object```-nek klasszifikálja"
   ]
  },
  {
   "cell_type": "code",
   "execution_count": null,
   "metadata": {},
   "outputs": [],
   "source": [
    "ess_9.dtypes"
   ]
  },
  {
   "cell_type": "markdown",
   "metadata": {},
   "source": [
    "### Apply\n",
    "\n",
    "Az Apply különböző függvények dataframekre való alkalmazását teszi lehetővé."
   ]
  },
  {
   "cell_type": "code",
   "execution_count": null,
   "metadata": {},
   "outputs": [],
   "source": [
    "#definiálunk egy függvényt\n",
    "def calc_mean(x):\n",
    "    return x.mean(skipna=True)"
   ]
  },
  {
   "cell_type": "code",
   "execution_count": null,
   "metadata": {},
   "outputs": [],
   "source": [
    "# az apply segítségével alaklmazzuk az oszlopokon\n",
    "x = ess_9[[\"pplfair\", \"ppltrst\"]].apply(calc_mean)\n",
    "print(x)"
   ]
  },
  {
   "cell_type": "markdown",
   "metadata": {},
   "source": [
    "Itt egy ```lambda``` függvényt alkalmazunk, amely az adott változó értékétől függően egy új változóban egy kategorikus értéket tárol el."
   ]
  },
  {
   "cell_type": "code",
   "execution_count": null,
   "metadata": {},
   "outputs": [],
   "source": [
    "ess_9[\"uj_valtozo\"] = ess_9[\"polintr\"].apply(lambda x: 1 if x < 3 else 2)"
   ]
  },
  {
   "cell_type": "code",
   "execution_count": null,
   "metadata": {},
   "outputs": [],
   "source": [
    "ess_9[[\"polintr\", \"uj_valtozo\"]]"
   ]
  },
  {
   "cell_type": "markdown",
   "metadata": {},
   "source": [
    "A használt ```lambda``` függvény így nézne ki, ha tradícionális módon definiálnánk"
   ]
  },
  {
   "cell_type": "code",
   "execution_count": null,
   "metadata": {},
   "outputs": [],
   "source": [
    "def kat(x):\n",
    "    if x < 2:\n",
    "        return 1\n",
    "    else:\n",
    "        return 2"
   ]
  },
  {
   "cell_type": "markdown",
   "metadata": {},
   "source": [
    "### Assign"
   ]
  },
  {
   "cell_type": "markdown",
   "metadata": {},
   "source": [
    "Az ```assign```-al új oszlopokat tudunk létrehozni a DataFrame-en belül"
   ]
  },
  {
   "cell_type": "code",
   "execution_count": null,
   "metadata": {},
   "outputs": [],
   "source": [
    "ess_9.assign(NEW_COLUMN=\"NEW_VALUE\")"
   ]
  },
  {
   "cell_type": "code",
   "execution_count": null,
   "metadata": {},
   "outputs": [],
   "source": [
    "ess_9.assign(atlagos_bizalom = (ess_9[\"trstlgl\"] + ess_9[\"trstplc\"] + ess_9[\"trstplt\"] + ess_9[\"trstprl\"] + ess_9[\"trstprt\"])/5)"
   ]
  },
  {
   "cell_type": "markdown",
   "metadata": {},
   "source": [
    "### Group by"
   ]
  },
  {
   "cell_type": "markdown",
   "metadata": {},
   "source": [
    "A ```groupby``` a DataFrame valamilyen felosztását, összegzését és ennek a kettőnek a kombinációját takarja. A megadott paraméterek mentén tudunk nagy mennyiségű adatot összesíteni."
   ]
  },
  {
   "cell_type": "code",
   "execution_count": null,
   "metadata": {},
   "outputs": [],
   "source": [
    "ess_9[[\"gndr\", \"stfdem\", \"stflife\"]].groupby(\"stflife\").count() #élettel való elégedettség szempontjából csoportosítunk - a 77, 88 az a nem tudja nem válaszol"
   ]
  },
  {
   "cell_type": "code",
   "execution_count": null,
   "metadata": {},
   "outputs": [],
   "source": [
    "#az adatbázist leszűkítjük erre a két változóra\n",
    "ess_9[[\"gndr\", \"stfdem\", \"stflife\"]].groupby(\"gndr\").mean() #a nem alapján csoportosítunk és az élettel és demokráciával való elégedettség átlagát nézzük meg"
   ]
  },
  {
   "cell_type": "markdown",
   "metadata": {},
   "source": [
    "#### A groupby másképpen"
   ]
  },
  {
   "cell_type": "code",
   "execution_count": null,
   "metadata": {},
   "outputs": [],
   "source": [
    "#Egy kiválasztott változót elemzünk, sorbarendezéssel\n",
    "ess_9[[\"trstprl\", \"trstlgl\", \"trstplc\", \"trstplt\", \"trstprt\", \"gndr\", \"agea\"]].groupby(\"agea\").min()[\"trstprl\"].sort_values(ascending=False)"
   ]
  },
  {
   "cell_type": "code",
   "execution_count": null,
   "metadata": {},
   "outputs": [],
   "source": [
    "#az előző esetből csak az első 5 elemet nézzük\n",
    "ess_9[[\"trstprl\", \"trstlgl\", \"trstplc\", \"trstplt\", \"trstprt\", \"gndr\", \"agea\"]].groupby(\"agea\").min()[\"trstprl\"].sort_values(ascending=False).head(5)"
   ]
  },
  {
   "cell_type": "code",
   "execution_count": null,
   "metadata": {},
   "outputs": [],
   "source": [
    "#loc segítségével is meg lehet oldani\n",
    "ess_9.loc[:, \"netusoft\"].value_counts().head(3)"
   ]
  },
  {
   "cell_type": "markdown",
   "metadata": {},
   "source": [
    "### Merge, Concat"
   ]
  },
  {
   "cell_type": "markdown",
   "metadata": {},
   "source": [
    "A ```merge``` és a ```concat``` metódusok táblák összefűzésére használhatók\n",
    "\n",
    "Hasznos [honlap](https://pandas.pydata.org/docs/user_guide/merging.html)"
   ]
  },
  {
   "cell_type": "code",
   "execution_count": null,
   "metadata": {},
   "outputs": [],
   "source": [
    "employee = pd.DataFrame({'employee': ['Bob', 'Jake', 'Lisa', 'Sue', 'Sarah', 'Stan'], 'group': ['Accounting', 'Engineering', 'Engineering', 'HR', 'HR', 'Accounting']})\n",
    "employee2 = pd.DataFrame({'employee': ['Jean', 'Frank', 'Mike', 'Leah', 'Ben'], 'group': ['HR', 'Accounting', 'Engineering', 'HR', 'Maintenance']})\n",
    "seniority = pd.DataFrame({'employee': ['Lisa', 'Bob', 'Jake', 'Sue', 'Sarah'], 'hire_date': [2004, 2008, 2012, 2014, 2017]})"
   ]
  },
  {
   "cell_type": "markdown",
   "metadata": {},
   "source": [
    "A ```merge``` két tábla összeillesztésére használható egybvagy több megegyező érték (oszlop, vagy sorindex) mentén"
   ]
  },
  {
   "cell_type": "code",
   "execution_count": null,
   "metadata": {},
   "outputs": [],
   "source": [
    "employee.merge(seniority, how=\"outer\")"
   ]
  },
  {
   "cell_type": "code",
   "execution_count": null,
   "metadata": {},
   "outputs": [],
   "source": [
    "employee.merge(seniority, how=\"inner\")"
   ]
  },
  {
   "cell_type": "code",
   "execution_count": null,
   "metadata": {},
   "outputs": [],
   "source": [
    "employee.merge(seniority, how=\"left\")"
   ]
  },
  {
   "cell_type": "code",
   "execution_count": null,
   "metadata": {},
   "outputs": [],
   "source": [
    "employee.merge(seniority, how=\"right\")"
   ]
  },
  {
   "cell_type": "code",
   "execution_count": null,
   "metadata": {},
   "outputs": [],
   "source": [
    "employee.merge(seniority, how=\"outer\", on=\"employee\")"
   ]
  },
  {
   "cell_type": "markdown",
   "metadata": {},
   "source": [
    "A ```concat``` két DataFrame \"összetapasztására\" jó, vagy oszlopok mentén — a DataFrame \"oldalához csapja\" —, vagy pedig sorok mentén — a DataFrame \"aljához csapva\"."
   ]
  },
  {
   "cell_type": "code",
   "execution_count": null,
   "metadata": {},
   "outputs": [],
   "source": [
    "pd.concat([employee, seniority], axis=1) #oszlopként adja hozzá"
   ]
  },
  {
   "cell_type": "code",
   "execution_count": null,
   "metadata": {},
   "outputs": [],
   "source": [
    "pd.concat([employee, seniority], axis=0) #sorként adja hozzá"
   ]
  },
  {
   "cell_type": "code",
   "execution_count": null,
   "metadata": {},
   "outputs": [],
   "source": [
    "pd.concat([employee, employee2], axis=0) #sorként adja hozzá"
   ]
  }
 ],
 "metadata": {
  "kernelspec": {
   "display_name": "Python 3",
   "language": "python",
   "name": "python3"
  },
  "language_info": {
   "codemirror_mode": {
    "name": "ipython",
    "version": 3
   },
   "file_extension": ".py",
   "mimetype": "text/x-python",
   "name": "python",
   "nbconvert_exporter": "python",
   "pygments_lexer": "ipython3",
   "version": "3.12.4"
  }
 },
 "nbformat": 4,
 "nbformat_minor": 2
}
