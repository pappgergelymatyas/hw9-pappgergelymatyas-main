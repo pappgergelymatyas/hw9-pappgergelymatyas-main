{
 "cells": [
  {
   "cell_type": "markdown",
   "metadata": {},
   "source": [
    "# Tidy data koncepció\n",
    "\n",
    "*\"A boldog családok mind hasonlóak egymáshoz, minden boldogtalan család a maga módján az\"* Lev Tolsztoj: Anna Karenina\n",
    "\n",
    "*\"Tidy datasets are all alike but every messy dataset is messy in its own way\"* [Hadley Wickham](https://vita.had.co.nz/papers/tidy-data.pdf)\n",
    "\n",
    "Tidy data jellemzői:\n",
    "1) Minden változó egy oszlop\n",
    "2) Minden megfigyelés egy sor\n",
    "3) Minden megfigyelés típus egy tábla\n",
    "\n",
    "Leggyakoribb jelenségek, amitől nem tidy az adat:\n",
    "1) Az oszlopcímkék értékek, nem változónevek\n",
    "2) Több változó tárolódik egy oszlopban\n",
    "3) A változók sorokban és oszlopokban is fellelhetők\n",
    "4) Többféle megfigyelési típus is van egy táblában\n",
    "5) Egy megfigyelési egység többféle táblában is jelen van\n",
    "\n",
    "### Általában milyen típusú adatokkal dolgoztok?"
   ]
  },
  {
   "cell_type": "markdown",
   "metadata": {},
   "source": [
    "# Pandas Intro\n",
    "\n",
    "Két packaget kell beolvasni pandas, és numpy (parncssorban):\n",
    "\n",
    "pip install pandas\n",
    "\n",
    "pip install numpy\n",
    "\n",
    "[Pandas alapok](https://pandas.pydata.org/docs/getting_started/overview.html)\n",
    "\n",
    "[NumPy alapok](https://numpy.org/doc/stable/user/absolute_beginners.html)\n"
   ]
  },
  {
   "cell_type": "code",
   "execution_count": null,
   "metadata": {},
   "outputs": [],
   "source": [
    "#szükséeg packagek importálása\n",
    "import numpy as np\n",
    "import pandas as pd\n",
    "import os"
   ]
  },
  {
   "cell_type": "markdown",
   "metadata": {},
   "source": [
    "### Milyen adatokat kezel a pandas?\n",
    "\n",
    "- A pandas az adatok táblázatos reprezentációja.\n",
    "- Minden oszlopa egy Series. Ez egy egydimenziós tömb [(Arrays)](https://www.w3schools.com/python/python_arrays.asp), amely bármilyen típusú adatot tartalmaz."
   ]
  },
  {
   "cell_type": "markdown",
   "metadata": {},
   "source": [
    "## Saját adatbázis létrehozása"
   ]
  },
  {
   "cell_type": "markdown",
   "metadata": {},
   "source": [
    "### Listából"
   ]
  },
  {
   "cell_type": "code",
   "execution_count": null,
   "metadata": {},
   "outputs": [],
   "source": [
    "#egy listából\n",
    "nev = [\"Lili\", \"Vió\", \"Gyula\", \"Beni\", \"Matyi\", \"Lemu\", \"Betts\", \"Máté\"]\n",
    "\n",
    "df = pd.DataFrame(nev)\n",
    "print(df) #konvencionális elnevezés"
   ]
  },
  {
   "cell_type": "code",
   "execution_count": null,
   "metadata": {},
   "outputs": [],
   "source": [
    "#több litából dictionary segítségével\n",
    "#egy listából\n",
    "nev = [\"Lili\", \"Vió\", \"Gyula\", \"Beni\", \"Matyi\", \"Lemu\", \"Betts\", \"Máté\"]\n",
    "magassag = [1, 2, 3, 4, 5, 6, 7, 8]\n",
    "apa_magassag = [9,10, 11, 12, 13, 14, 12 , 16]\n",
    "\n",
    "tablahoz = {\"nev\": nev, \"magassag\": magassag, \"apa_magassag\": apa_magassag}\n",
    "\n",
    "magassag_df = pd.DataFrame(tablahoz)\n",
    "print(magassag_df)"
   ]
  },
  {
   "cell_type": "code",
   "execution_count": null,
   "metadata": {},
   "outputs": [],
   "source": [
    "#gyorsan néhány használati mód\n",
    "print(max(magassag_df[\"apa_magassag\"]))\n",
    "print(min(magassag_df[\"magassag\"]))\n",
    "print(magassag_df[[\"apa_magassag\", \"magassag\"]].corr())"
   ]
  },
  {
   "cell_type": "markdown",
   "metadata": {},
   "source": [
    "## Adat beolvasása"
   ]
  },
  {
   "cell_type": "code",
   "execution_count": null,
   "metadata": {},
   "outputs": [],
   "source": [
    "#Working directory beállítása\n",
    "#mi van jelenleg beállítva --> ahonnan megnyitottuk a fájlt\n",
    "print(os.getcwd())\n",
    "#átállítás és ellenőrzés\n",
    "os.chdir(\"C:/Users/Oti/OneDrive - elte.hu/Rajk/!KURZUSOK/4. év/Prog 1/pandas/\")\n",
    "print(os.getcwd())"
   ]
  },
  {
   "cell_type": "code",
   "execution_count": null,
   "metadata": {},
   "outputs": [],
   "source": [
    "#adatbázis: ESS 9. hullámával fogunk foglalkozni --> ismeri-e valaki\n",
    "ess_9 = pd.read_csv(\"ESS9HU.csv\", sep=\",\", keep_default_na= True) #pd vel hivatkozunk a packagre, sokféle adatbázis típust be tud olvasni\n",
    "\n",
    "#opciók\n",
    "#pd.read"
   ]
  },
  {
   "cell_type": "markdown",
   "metadata": {},
   "source": [
    "[ESS dokumentáció](https://ess.sikt.no/en/study/bdc7c350-1029-4cb3-9d5e-53f668b8fa74/226)"
   ]
  },
  {
   "cell_type": "markdown",
   "metadata": {},
   "source": [
    "DataFrame dimenzióinak hossza (sorok és oszlopok száma ebben a sorrendben)"
   ]
  },
  {
   "cell_type": "code",
   "execution_count": null,
   "metadata": {},
   "outputs": [],
   "source": [
    "ess_9.shape"
   ]
  },
  {
   "cell_type": "markdown",
   "metadata": {},
   "source": [
    "DataFrame első ```n``` sorának megjelenítése (alapértelmezetten ```n=5```)"
   ]
  },
  {
   "cell_type": "code",
   "execution_count": null,
   "metadata": {},
   "outputs": [],
   "source": [
    "ess_9.head()"
   ]
  },
  {
   "cell_type": "markdown",
   "metadata": {},
   "source": [
    "DataFrame utolsó ```n``` sorának megjelenítése (alapértelmezetten ```n=5```)"
   ]
  },
  {
   "cell_type": "code",
   "execution_count": null,
   "metadata": {},
   "outputs": [],
   "source": [
    "ess_9.tail()"
   ]
  },
  {
   "cell_type": "markdown",
   "metadata": {},
   "source": [
    "DataFrame oszlopcimkéinek megjelenítése\n",
    "\n",
    "A [változónevek](https://stessrelpubprodwe.blob.core.windows.net/data/round9/survey/ESS9_appendix_a7_e03_1.pdf) értelmezése"
   ]
  },
  {
   "cell_type": "code",
   "execution_count": null,
   "metadata": {},
   "outputs": [],
   "source": [
    "ess_9.columns"
   ]
  },
  {
   "cell_type": "markdown",
   "metadata": {},
   "source": [
    "DataFrame oszlopcimkéinek listában való megjelenítése"
   ]
  },
  {
   "cell_type": "code",
   "execution_count": null,
   "metadata": {},
   "outputs": [],
   "source": [
    "ess_9.columns.to_list()"
   ]
  },
  {
   "cell_type": "markdown",
   "metadata": {},
   "source": [
    "Oszlopokra, elemekre való hivatkozás\n",
    "\n",
    "Loc, Iloc"
   ]
  },
  {
   "cell_type": "code",
   "execution_count": null,
   "metadata": {},
   "outputs": [],
   "source": [
    "#oszlopra név alapján\n",
    "print(ess_9[\"agea\"])\n",
    "\n",
    "#oszlopra több név alapján\n",
    "print(ess_9[[\"agea\", \"gndr\"]])"
   ]
  },
  {
   "cell_type": "code",
   "execution_count": null,
   "metadata": {},
   "outputs": [],
   "source": [
    "print(ess_9.loc[:,[\"agea\", \"gndr\"]]) #loc a labelek alapján dolgozik"
   ]
  },
  {
   "cell_type": "code",
   "execution_count": null,
   "metadata": {},
   "outputs": [],
   "source": [
    "ess_9.iloc[:,5] # az iloc az oszlopok sorszáma alapján dolgozik"
   ]
  },
  {
   "cell_type": "code",
   "execution_count": null,
   "metadata": {},
   "outputs": [],
   "source": [
    "ess_9.iloc[:, 1:5]"
   ]
  },
  {
   "cell_type": "code",
   "execution_count": null,
   "metadata": {},
   "outputs": [],
   "source": [
    "ess_9.iloc[:,[0,45]]"
   ]
  },
  {
   "cell_type": "code",
   "execution_count": null,
   "metadata": {},
   "outputs": [],
   "source": [
    "#konkrét sorokat veszek figyelembe\n",
    "ess_9.loc[3:5]"
   ]
  },
  {
   "cell_type": "code",
   "execution_count": null,
   "metadata": {},
   "outputs": [],
   "source": [
    "ess_9.iloc[[1, 4, 5, 8]]"
   ]
  },
  {
   "cell_type": "code",
   "execution_count": null,
   "metadata": {},
   "outputs": [],
   "source": [
    "#konkrét elemre való hivatkozás sorszám alapján\n",
    "ess_9[\"agea\"][0]"
   ]
  },
  {
   "cell_type": "markdown",
   "metadata": {},
   "source": [
    "Leíró statisztikák"
   ]
  },
  {
   "cell_type": "code",
   "execution_count": null,
   "metadata": {},
   "outputs": [],
   "source": [
    "# leíró statisztikák\n",
    "print(ess_9[\"agea\"].max())\n",
    "\n",
    "print(ess_9[\"agea\"].mean())\n",
    "\n",
    "ess_9[\"agea\"].describe()"
   ]
  },
  {
   "cell_type": "markdown",
   "metadata": {},
   "source": [
    "Sorok kiválasztása feltétel alapján"
   ]
  },
  {
   "cell_type": "code",
   "execution_count": null,
   "metadata": {},
   "outputs": [],
   "source": [
    "#csak a 25 évnél idősebbeket tarjuk meg a kor_25 dataframeben\n",
    "kor_25 = ess_9[ess_9[\"agea\"] > 25] \n",
    "\n",
    "print(len(kor_25))\n",
    "kor_25"
   ]
  },
  {
   "cell_type": "code",
   "execution_count": null,
   "metadata": {},
   "outputs": [],
   "source": [
    "# csak azokat tartjuk meg akik az egészségügyi állapotukat 1-esre vagy 2-esre ítélték meg\n",
    "eu_rossz = ess_9[(ess_9[\"health\"] == 1 )| (ess_9[\"health\"] == 2)]\n",
    "eu_rossz"
   ]
  },
  {
   "cell_type": "code",
   "execution_count": null,
   "metadata": {},
   "outputs": [],
   "source": [
    "kor_25 = ess_9.loc[ess_9.agea > 25] #loc segítségével\n",
    "kor_25"
   ]
  },
  {
   "cell_type": "code",
   "execution_count": null,
   "metadata": {},
   "outputs": [],
   "source": [
    "ess_9.loc[(ess_9[\"gndr\"] == 1) & (ess_9[\"agea\"] > 50)] #loc segítségével"
   ]
  },
  {
   "cell_type": "code",
   "execution_count": null,
   "metadata": {},
   "outputs": [],
   "source": [
    "#egyes oszlopok gyakorisági megoszlása: emberekbe vetett bizalom\n",
    "ess_9[\"ppltrst\"].value_counts()"
   ]
  },
  {
   "cell_type": "markdown",
   "metadata": {},
   "source": [
    "### Adathiány vizsgálata az adatbázisban"
   ]
  },
  {
   "cell_type": "markdown",
   "metadata": {},
   "source": [
    "DataFrame N/A értékeinek vizsgálata cellánként"
   ]
  },
  {
   "cell_type": "code",
   "execution_count": null,
   "metadata": {},
   "outputs": [],
   "source": [
    "ess_9.isna() #azadatbázisban a dweight változónál van adathiány, ez az egyik féle súlyozás"
   ]
  },
  {
   "cell_type": "markdown",
   "metadata": {},
   "source": [
    "DataFrame N/A értékeinek összesítése oszloponként"
   ]
  },
  {
   "cell_type": "code",
   "execution_count": null,
   "metadata": {},
   "outputs": [],
   "source": [
    "ess_9.isna().sum()"
   ]
  },
  {
   "cell_type": "markdown",
   "metadata": {},
   "source": [
    "DataFrame N/A értékeinek sorbarendezett összesítése"
   ]
  },
  {
   "cell_type": "code",
   "execution_count": null,
   "metadata": {},
   "outputs": [],
   "source": [
    "ess_9.isna().sum().sort_values(ascending=False)"
   ]
  },
  {
   "cell_type": "markdown",
   "metadata": {},
   "source": [
    "DataFrame N/A értékeinek sorbarendezett összesítése dict formátumban visszaadva"
   ]
  },
  {
   "cell_type": "code",
   "execution_count": null,
   "metadata": {},
   "outputs": [],
   "source": [
    "ess_9.isna().sum().sort_values(ascending=False).to_dict()"
   ]
  },
  {
   "cell_type": "markdown",
   "metadata": {},
   "source": [
    "DataFrame N/A értékeinek sorbarendezett összesítése DataFrame formátumban visszaadva"
   ]
  },
  {
   "cell_type": "code",
   "execution_count": null,
   "metadata": {},
   "outputs": [],
   "source": [
    "pd.DataFrame(ess_9.isna().sum().sort_values(ascending=False))"
   ]
  },
  {
   "cell_type": "markdown",
   "metadata": {},
   "source": [
    "DataFrame N/A értékeinek eldobása a metódus beállítása nélkül"
   ]
  },
  {
   "cell_type": "code",
   "execution_count": null,
   "metadata": {},
   "outputs": [],
   "source": [
    "ess_9.dropna()"
   ]
  },
  {
   "cell_type": "markdown",
   "metadata": {},
   "source": [
    "DataFrame N/A értékeinek eldobása a metódus beállításával: ```axis=0``` a vizsgálati egység a DataFrame sorai, ```how=\"any\"``` akárcsak egyetlen N/A érték esetén már dobja el a vizsgált egységet"
   ]
  },
  {
   "cell_type": "code",
   "execution_count": null,
   "metadata": {},
   "outputs": [],
   "source": [
    "#axis lehet 0 (sorokat dob ki) vagy 1 (oszlopokat dob ki), how any (ha egy is NaN akkor kidobja) vagy all (ha mindegyik érték Nan kidobja)\n",
    "ess_9.dropna(axis=0, how=\"any\")"
   ]
  },
  {
   "cell_type": "markdown",
   "metadata": {},
   "source": [
    "A DataFrame-nek továbbra is kutya baja, mivel *nem történt értékátadás*"
   ]
  },
  {
   "cell_type": "code",
   "execution_count": null,
   "metadata": {},
   "outputs": [],
   "source": [
    "ess_9.head()"
   ]
  },
  {
   "cell_type": "markdown",
   "metadata": {},
   "source": [
    "A DataFrame sorainak száma"
   ]
  },
  {
   "cell_type": "code",
   "execution_count": null,
   "metadata": {},
   "outputs": [],
   "source": [
    "len(ess_9)"
   ]
  },
  {
   "cell_type": "markdown",
   "metadata": {},
   "source": [
    "DataFrame N/A értékeinek eldobása a metódus beállításával: ```axis=1``` a vizsgálati egység a DataFrame oszlopai, ```thresh=``` küszöbérték, mely azt határozza meg, hogy a vizsgálati egységet nézve hány *nem* N/A érték felett *tartsa meg* a vizsgálati egységet.\n",
    " - Ez jelen esetben 45%, mivel ```thresh=(len(df)*0.45)```, ahol a ```len(df)``` adja meg, hogy hány érték van egy oszlopban (ami most a vizsgálati egységünk), és ennek az értéknek vesszük a ```0.45```-szörösét, tehát a 45%-át"
   ]
  },
  {
   "cell_type": "code",
   "execution_count": null,
   "metadata": {},
   "outputs": [],
   "source": [
    "ess_9.dropna(axis=1, thresh=(len(df)*0.45))"
   ]
  },
  {
   "cell_type": "markdown",
   "metadata": {},
   "source": [
    "### Adattípusok"
   ]
  },
  {
   "cell_type": "markdown",
   "metadata": {},
   "source": [
    "A DataFrame oszlopaira érvényes adattípusok megjelenítése. Az ```object``` adattípus egy \"catch-all\" forma, amiről nem tudja a pandas egyértelműen eldönteni, hogy milyen formátum lenne a legjobb, azt magától ```object```-nek klasszifikálja"
   ]
  },
  {
   "cell_type": "code",
   "execution_count": null,
   "metadata": {},
   "outputs": [],
   "source": [
    "ess_9.dtypes"
   ]
  },
  {
   "cell_type": "markdown",
   "metadata": {},
   "source": [
    "### Apply\n",
    "\n",
    "Az Apply különböző függvények dataframekre való alkalmazását teszi lehetővé."
   ]
  },
  {
   "cell_type": "code",
   "execution_count": null,
   "metadata": {},
   "outputs": [],
   "source": [
    "#definiálunk egy függvényt\n",
    "def calc_mean(x):\n",
    "    return x.mean(skipna=True)"
   ]
  },
  {
   "cell_type": "code",
   "execution_count": null,
   "metadata": {},
   "outputs": [],
   "source": [
    "# az apply segítségével alaklmazzuk az oszlopokon\n",
    "x = ess_9[[\"pplfair\", \"ppltrst\"]].apply(calc_mean)\n",
    "print(x)"
   ]
  },
  {
   "cell_type": "markdown",
   "metadata": {},
   "source": [
    "Itt egy ```lambda``` függvényt alkalmazunk, amely az adott változó értékétől függően egy új változóban egy kategorikus értéket tárol el."
   ]
  },
  {
   "cell_type": "code",
   "execution_count": null,
   "metadata": {},
   "outputs": [],
   "source": [
    "ess_9[\"uj_valtozo\"] = ess_9[\"polintr\"].apply(lambda x: 1 if x < 3 else 2)"
   ]
  },
  {
   "cell_type": "code",
   "execution_count": null,
   "metadata": {},
   "outputs": [],
   "source": [
    "ess_9[[\"polintr\", \"uj_valtozo\"]]"
   ]
  },
  {
   "cell_type": "markdown",
   "metadata": {},
   "source": [
    "A használt ```lambda``` függvény így nézne ki, ha tradícionális módon definiálnánk"
   ]
  },
  {
   "cell_type": "code",
   "execution_count": null,
   "metadata": {},
   "outputs": [],
   "source": [
    "def kat(x):\n",
    "    if x < 2:\n",
    "        return 1\n",
    "    else:\n",
    "        return 2"
   ]
  },
  {
   "cell_type": "markdown",
   "metadata": {},
   "source": [
    "### Assign"
   ]
  },
  {
   "cell_type": "markdown",
   "metadata": {},
   "source": [
    "Az ```assign```-al új oszlopokat tudunk létrehozni a DataFrame-en belül"
   ]
  },
  {
   "cell_type": "code",
   "execution_count": null,
   "metadata": {},
   "outputs": [],
   "source": [
    "ess_9.assign(NEW_COLUMN=\"NEW_VALUE\")"
   ]
  },
  {
   "cell_type": "code",
   "execution_count": null,
   "metadata": {},
   "outputs": [],
   "source": [
    "ess_9.assign(atlagos_bizalom = (ess_9[\"trstlgl\"] + ess_9[\"trstplc\"] + ess_9[\"trstplt\"] + ess_9[\"trstprl\"] + ess_9[\"trstprt\"])/5)"
   ]
  },
  {
   "cell_type": "markdown",
   "metadata": {},
   "source": [
    "### Group by"
   ]
  },
  {
   "cell_type": "markdown",
   "metadata": {},
   "source": [
    "A ```groupby``` a DataFrame valamilyen felosztását, összegzését és ennek a kettőnek a kombinációját takarja. A megadott paraméterek mentén tudunk nagy mennyiségű adatot összesíteni."
   ]
  },
  {
   "cell_type": "code",
   "execution_count": null,
   "metadata": {},
   "outputs": [],
   "source": [
    "ess_9[[\"gndr\", \"stfdem\", \"stflife\"]].groupby(\"stflife\").count() #élettel való elégedettség szempontjából csoportosítunk - a 77, 88 az a nem tudja nem válaszol"
   ]
  },
  {
   "cell_type": "code",
   "execution_count": null,
   "metadata": {},
   "outputs": [],
   "source": [
    "#az adatbázist leszűkítjük erre a két változóra\n",
    "ess_9[[\"gndr\", \"stfdem\", \"stflife\"]].groupby(\"gndr\").mean() #a nem alapján csoportosítunk és az élettel és demokráciával való elégedettség átlagát nézzük meg"
   ]
  },
  {
   "cell_type": "markdown",
   "metadata": {},
   "source": [
    "#### A groupby másképpen"
   ]
  },
  {
   "cell_type": "code",
   "execution_count": null,
   "metadata": {},
   "outputs": [],
   "source": [
    "#Egy kiválasztott változót elemzünk, sorbarendezéssel\n",
    "ess_9[[\"trstprl\", \"trstlgl\", \"trstplc\", \"trstplt\", \"trstprt\", \"gndr\", \"agea\"]].groupby(\"agea\").min()[\"trstprl\"].sort_values(ascending=False)"
   ]
  },
  {
   "cell_type": "code",
   "execution_count": null,
   "metadata": {},
   "outputs": [],
   "source": [
    "#az előző esetből csak az első 5 elemet nézzük\n",
    "ess_9[[\"trstprl\", \"trstlgl\", \"trstplc\", \"trstplt\", \"trstprt\", \"gndr\", \"agea\"]].groupby(\"agea\").min()[\"trstprl\"].sort_values(ascending=False).head(5)"
   ]
  },
  {
   "cell_type": "code",
   "execution_count": null,
   "metadata": {},
   "outputs": [],
   "source": [
    "#loc segítségével is meg lehet oldani\n",
    "ess_9.loc[:, \"netusoft\"].value_counts().head(3)"
   ]
  },
  {
   "cell_type": "markdown",
   "metadata": {},
   "source": [
    "### Merge, Concat"
   ]
  },
  {
   "cell_type": "markdown",
   "metadata": {},
   "source": [
    "A ```merge``` és a ```concat``` metódusok táblák összefűzésére használhatók\n",
    "\n",
    "Hasznos [honlap](https://pandas.pydata.org/docs/user_guide/merging.html)"
   ]
  },
  {
   "cell_type": "code",
   "execution_count": null,
   "metadata": {},
   "outputs": [],
   "source": [
    "employee = pd.DataFrame({'employee': ['Bob', 'Jake', 'Lisa', 'Sue', 'Sarah', 'Stan'], 'group': ['Accounting', 'Engineering', 'Engineering', 'HR', 'HR', 'Accounting']})\n",
    "employee2 = pd.DataFrame({'employee': ['Jean', 'Frank', 'Mike', 'Leah', 'Ben'], 'group': ['HR', 'Accounting', 'Engineering', 'HR', 'Maintenance']})\n",
    "seniority = pd.DataFrame({'employee': ['Lisa', 'Bob', 'Jake', 'Sue', 'Sarah'], 'hire_date': [2004, 2008, 2012, 2014, 2017]})"
   ]
  },
  {
   "cell_type": "markdown",
   "metadata": {},
   "source": [
    "A ```merge``` két tábla összeillesztésére használható egybvagy több megegyező érték (oszlop, vagy sorindex) mentén"
   ]
  },
  {
   "cell_type": "code",
   "execution_count": null,
   "metadata": {},
   "outputs": [],
   "source": [
    "employee.merge(seniority, how=\"outer\")"
   ]
  },
  {
   "cell_type": "code",
   "execution_count": null,
   "metadata": {},
   "outputs": [],
   "source": [
    "employee.merge(seniority, how=\"inner\")"
   ]
  },
  {
   "cell_type": "code",
   "execution_count": null,
   "metadata": {},
   "outputs": [],
   "source": [
    "employee.merge(seniority, how=\"left\")"
   ]
  },
  {
   "cell_type": "code",
   "execution_count": null,
   "metadata": {},
   "outputs": [],
   "source": [
    "employee.merge(seniority, how=\"right\")"
   ]
  },
  {
   "cell_type": "code",
   "execution_count": null,
   "metadata": {},
   "outputs": [],
   "source": [
    "employee.merge(seniority, how=\"outer\", on=\"employee\")"
   ]
  },
  {
   "cell_type": "markdown",
   "metadata": {},
   "source": [
    "A ```concat``` két DataFrame \"összetapasztására\" jó, vagy oszlopok mentén — a DataFrame \"oldalához csapja\" —, vagy pedig sorok mentén — a DataFrame \"aljához csapva\"."
   ]
  },
  {
   "cell_type": "code",
   "execution_count": null,
   "metadata": {},
   "outputs": [],
   "source": [
    "pd.concat([employee, seniority], axis=1) #oszlopként adja hozzá"
   ]
  },
  {
   "cell_type": "code",
   "execution_count": null,
   "metadata": {},
   "outputs": [],
   "source": [
    "pd.concat([employee, seniority], axis=0) #sorként adja hozzá"
   ]
  },
  {
   "cell_type": "code",
   "execution_count": null,
   "metadata": {},
   "outputs": [],
   "source": [
    "pd.concat([employee, employee2], axis=0) #sorként adja hozzá"
   ]
  }
 ],
 "metadata": {
  "kernelspec": {
   "display_name": "base",
   "language": "python",
   "name": "python3"
  },
  "language_info": {
   "codemirror_mode": {
    "name": "ipython",
    "version": 3
   },
   "file_extension": ".py",
   "mimetype": "text/x-python",
   "name": "python",
   "nbconvert_exporter": "python",
   "pygments_lexer": "ipython3",
   "version": "3.11.7"
  }
 },
 "nbformat": 4,
 "nbformat_minor": 2
}
